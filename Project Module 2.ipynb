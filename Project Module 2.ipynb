{
 "cells": [
  {
   "cell_type": "code",
   "execution_count": 1,
   "id": "589dad8d",
   "metadata": {
    "ExecuteTime": {
     "end_time": "2021-12-05T05:38:15.652136Z",
     "start_time": "2021-12-05T05:38:10.269049Z"
    }
   },
   "outputs": [],
   "source": [
    "import numpy as np\n",
    "import pandas as pd\n",
    "pd.set_option('display.float_format', lambda x: '%.2f' % x)\n",
    "import scipy.stats as stats\n",
    "from scipy.stats import ttest_1samp, ttest_ind, ttest_rel, chi2_contingency\n",
    "import seaborn as sns\n",
    "sns.set(color_codes=True)\n",
    "import matplotlib.pyplot as plt\n",
    "%matplotlib inline\n",
    "from warnings import filterwarnings\n",
    "filterwarnings(\"ignore\")"
   ]
  },
  {
   "cell_type": "code",
   "execution_count": 2,
   "id": "d20995c9",
   "metadata": {
    "ExecuteTime": {
     "end_time": "2021-12-05T05:38:19.951373Z",
     "start_time": "2021-12-05T05:38:19.904371Z"
    }
   },
   "outputs": [
    {
     "data": {
      "text/html": [
       "<div>\n",
       "<style scoped>\n",
       "    .dataframe tbody tr th:only-of-type {\n",
       "        vertical-align: middle;\n",
       "    }\n",
       "\n",
       "    .dataframe tbody tr th {\n",
       "        vertical-align: top;\n",
       "    }\n",
       "\n",
       "    .dataframe thead th {\n",
       "        text-align: right;\n",
       "    }\n",
       "</style>\n",
       "<table border=\"1\" class=\"dataframe\">\n",
       "  <thead>\n",
       "    <tr style=\"text-align: right;\">\n",
       "      <th></th>\n",
       "      <th>Buyer/Spender</th>\n",
       "      <th>Channel</th>\n",
       "      <th>Region</th>\n",
       "      <th>Fresh</th>\n",
       "      <th>Milk</th>\n",
       "      <th>Grocery</th>\n",
       "      <th>Frozen</th>\n",
       "      <th>Detergents_Paper</th>\n",
       "      <th>Delicatessen</th>\n",
       "    </tr>\n",
       "  </thead>\n",
       "  <tbody>\n",
       "    <tr>\n",
       "      <th>0</th>\n",
       "      <td>1</td>\n",
       "      <td>Retail</td>\n",
       "      <td>Other</td>\n",
       "      <td>12669</td>\n",
       "      <td>9656</td>\n",
       "      <td>7561</td>\n",
       "      <td>214</td>\n",
       "      <td>2674</td>\n",
       "      <td>1338</td>\n",
       "    </tr>\n",
       "    <tr>\n",
       "      <th>1</th>\n",
       "      <td>2</td>\n",
       "      <td>Retail</td>\n",
       "      <td>Other</td>\n",
       "      <td>7057</td>\n",
       "      <td>9810</td>\n",
       "      <td>9568</td>\n",
       "      <td>1762</td>\n",
       "      <td>3293</td>\n",
       "      <td>1776</td>\n",
       "    </tr>\n",
       "    <tr>\n",
       "      <th>2</th>\n",
       "      <td>3</td>\n",
       "      <td>Retail</td>\n",
       "      <td>Other</td>\n",
       "      <td>6353</td>\n",
       "      <td>8808</td>\n",
       "      <td>7684</td>\n",
       "      <td>2405</td>\n",
       "      <td>3516</td>\n",
       "      <td>7844</td>\n",
       "    </tr>\n",
       "    <tr>\n",
       "      <th>3</th>\n",
       "      <td>4</td>\n",
       "      <td>Hotel</td>\n",
       "      <td>Other</td>\n",
       "      <td>13265</td>\n",
       "      <td>1196</td>\n",
       "      <td>4221</td>\n",
       "      <td>6404</td>\n",
       "      <td>507</td>\n",
       "      <td>1788</td>\n",
       "    </tr>\n",
       "    <tr>\n",
       "      <th>4</th>\n",
       "      <td>5</td>\n",
       "      <td>Retail</td>\n",
       "      <td>Other</td>\n",
       "      <td>22615</td>\n",
       "      <td>5410</td>\n",
       "      <td>7198</td>\n",
       "      <td>3915</td>\n",
       "      <td>1777</td>\n",
       "      <td>5185</td>\n",
       "    </tr>\n",
       "  </tbody>\n",
       "</table>\n",
       "</div>"
      ],
      "text/plain": [
       "   Buyer/Spender Channel Region  Fresh  Milk  Grocery  Frozen  \\\n",
       "0              1  Retail  Other  12669  9656     7561     214   \n",
       "1              2  Retail  Other   7057  9810     9568    1762   \n",
       "2              3  Retail  Other   6353  8808     7684    2405   \n",
       "3              4   Hotel  Other  13265  1196     4221    6404   \n",
       "4              5  Retail  Other  22615  5410     7198    3915   \n",
       "\n",
       "   Detergents_Paper  Delicatessen  \n",
       "0              2674          1338  \n",
       "1              3293          1776  \n",
       "2              3516          7844  \n",
       "3               507          1788  \n",
       "4              1777          5185  "
      ]
     },
     "execution_count": 2,
     "metadata": {},
     "output_type": "execute_result"
    }
   ],
   "source": [
    "df = pd.read_csv('Wholesale+Customers+Data.csv')\n",
    "df.head()"
   ]
  },
  {
   "cell_type": "code",
   "execution_count": 124,
   "id": "79506bcc",
   "metadata": {
    "ExecuteTime": {
     "end_time": "2021-11-30T13:09:07.164807Z",
     "start_time": "2021-11-30T13:09:07.131529Z"
    }
   },
   "outputs": [
    {
     "name": "stdout",
     "output_type": "stream",
     "text": [
      "<class 'pandas.core.frame.DataFrame'>\n",
      "RangeIndex: 440 entries, 0 to 439\n",
      "Data columns (total 9 columns):\n",
      " #   Column            Non-Null Count  Dtype \n",
      "---  ------            --------------  ----- \n",
      " 0   Buyer/Spender     440 non-null    int64 \n",
      " 1   Channel           440 non-null    object\n",
      " 2   Region            440 non-null    object\n",
      " 3   Fresh             440 non-null    int64 \n",
      " 4   Milk              440 non-null    int64 \n",
      " 5   Grocery           440 non-null    int64 \n",
      " 6   Frozen            440 non-null    int64 \n",
      " 7   Detergents_Paper  440 non-null    int64 \n",
      " 8   Delicatessen      440 non-null    int64 \n",
      "dtypes: int64(7), object(2)\n",
      "memory usage: 31.1+ KB\n"
     ]
    }
   ],
   "source": [
    "df.info()"
   ]
  },
  {
   "cell_type": "code",
   "execution_count": 125,
   "id": "ddbb34d4",
   "metadata": {
    "ExecuteTime": {
     "end_time": "2021-11-30T13:09:07.553789Z",
     "start_time": "2021-11-30T13:09:07.536301Z"
    }
   },
   "outputs": [
    {
     "data": {
      "text/plain": [
       "Buyer/Spender       0\n",
       "Channel             0\n",
       "Region              0\n",
       "Fresh               0\n",
       "Milk                0\n",
       "Grocery             0\n",
       "Frozen              0\n",
       "Detergents_Paper    0\n",
       "Delicatessen        0\n",
       "dtype: int64"
      ]
     },
     "execution_count": 125,
     "metadata": {},
     "output_type": "execute_result"
    }
   ],
   "source": [
    "df.isnull().sum()"
   ]
  },
  {
   "cell_type": "code",
   "execution_count": 103,
   "id": "786079c3",
   "metadata": {
    "ExecuteTime": {
     "end_time": "2021-12-06T05:20:03.969564Z",
     "start_time": "2021-12-06T05:20:03.854536Z"
    }
   },
   "outputs": [
    {
     "data": {
      "text/html": [
       "<div>\n",
       "<style scoped>\n",
       "    .dataframe tbody tr th:only-of-type {\n",
       "        vertical-align: middle;\n",
       "    }\n",
       "\n",
       "    .dataframe tbody tr th {\n",
       "        vertical-align: top;\n",
       "    }\n",
       "\n",
       "    .dataframe thead th {\n",
       "        text-align: right;\n",
       "    }\n",
       "</style>\n",
       "<table border=\"1\" class=\"dataframe\">\n",
       "  <thead>\n",
       "    <tr style=\"text-align: right;\">\n",
       "      <th></th>\n",
       "      <th>Buyer/Spender</th>\n",
       "      <th>Fresh</th>\n",
       "      <th>Milk</th>\n",
       "      <th>Grocery</th>\n",
       "      <th>Frozen</th>\n",
       "      <th>Detergents_Paper</th>\n",
       "      <th>Delicatessen</th>\n",
       "    </tr>\n",
       "  </thead>\n",
       "  <tbody>\n",
       "    <tr>\n",
       "      <th>count</th>\n",
       "      <td>440.00</td>\n",
       "      <td>440.00</td>\n",
       "      <td>440.00</td>\n",
       "      <td>440.00</td>\n",
       "      <td>440.00</td>\n",
       "      <td>440.00</td>\n",
       "      <td>440.00</td>\n",
       "    </tr>\n",
       "    <tr>\n",
       "      <th>mean</th>\n",
       "      <td>220.50</td>\n",
       "      <td>12000.30</td>\n",
       "      <td>5796.27</td>\n",
       "      <td>7951.28</td>\n",
       "      <td>3071.93</td>\n",
       "      <td>2881.49</td>\n",
       "      <td>1524.87</td>\n",
       "    </tr>\n",
       "    <tr>\n",
       "      <th>std</th>\n",
       "      <td>127.16</td>\n",
       "      <td>12647.33</td>\n",
       "      <td>7380.38</td>\n",
       "      <td>9503.16</td>\n",
       "      <td>4854.67</td>\n",
       "      <td>4767.85</td>\n",
       "      <td>2820.11</td>\n",
       "    </tr>\n",
       "    <tr>\n",
       "      <th>min</th>\n",
       "      <td>1.00</td>\n",
       "      <td>3.00</td>\n",
       "      <td>55.00</td>\n",
       "      <td>3.00</td>\n",
       "      <td>25.00</td>\n",
       "      <td>3.00</td>\n",
       "      <td>3.00</td>\n",
       "    </tr>\n",
       "    <tr>\n",
       "      <th>25%</th>\n",
       "      <td>110.75</td>\n",
       "      <td>3127.75</td>\n",
       "      <td>1533.00</td>\n",
       "      <td>2153.00</td>\n",
       "      <td>742.25</td>\n",
       "      <td>256.75</td>\n",
       "      <td>408.25</td>\n",
       "    </tr>\n",
       "    <tr>\n",
       "      <th>50%</th>\n",
       "      <td>220.50</td>\n",
       "      <td>8504.00</td>\n",
       "      <td>3627.00</td>\n",
       "      <td>4755.50</td>\n",
       "      <td>1526.00</td>\n",
       "      <td>816.50</td>\n",
       "      <td>965.50</td>\n",
       "    </tr>\n",
       "    <tr>\n",
       "      <th>75%</th>\n",
       "      <td>330.25</td>\n",
       "      <td>16933.75</td>\n",
       "      <td>7190.25</td>\n",
       "      <td>10655.75</td>\n",
       "      <td>3554.25</td>\n",
       "      <td>3922.00</td>\n",
       "      <td>1820.25</td>\n",
       "    </tr>\n",
       "    <tr>\n",
       "      <th>max</th>\n",
       "      <td>440.00</td>\n",
       "      <td>112151.00</td>\n",
       "      <td>73498.00</td>\n",
       "      <td>92780.00</td>\n",
       "      <td>60869.00</td>\n",
       "      <td>40827.00</td>\n",
       "      <td>47943.00</td>\n",
       "    </tr>\n",
       "  </tbody>\n",
       "</table>\n",
       "</div>"
      ],
      "text/plain": [
       "       Buyer/Spender     Fresh     Milk  Grocery   Frozen  Detergents_Paper  \\\n",
       "count         440.00    440.00   440.00   440.00   440.00            440.00   \n",
       "mean          220.50  12000.30  5796.27  7951.28  3071.93           2881.49   \n",
       "std           127.16  12647.33  7380.38  9503.16  4854.67           4767.85   \n",
       "min             1.00      3.00    55.00     3.00    25.00              3.00   \n",
       "25%           110.75   3127.75  1533.00  2153.00   742.25            256.75   \n",
       "50%           220.50   8504.00  3627.00  4755.50  1526.00            816.50   \n",
       "75%           330.25  16933.75  7190.25 10655.75  3554.25           3922.00   \n",
       "max           440.00 112151.00 73498.00 92780.00 60869.00          40827.00   \n",
       "\n",
       "       Delicatessen  \n",
       "count        440.00  \n",
       "mean        1524.87  \n",
       "std         2820.11  \n",
       "min            3.00  \n",
       "25%          408.25  \n",
       "50%          965.50  \n",
       "75%         1820.25  \n",
       "max        47943.00  "
      ]
     },
     "execution_count": 103,
     "metadata": {},
     "output_type": "execute_result"
    }
   ],
   "source": [
    "df.describe()"
   ]
  },
  {
   "cell_type": "code",
   "execution_count": 127,
   "id": "c90f7df7",
   "metadata": {
    "ExecuteTime": {
     "end_time": "2021-11-30T13:09:08.583888Z",
     "start_time": "2021-11-30T13:09:08.565886Z"
    }
   },
   "outputs": [
    {
     "data": {
      "text/html": [
       "<div>\n",
       "<style scoped>\n",
       "    .dataframe tbody tr th:only-of-type {\n",
       "        vertical-align: middle;\n",
       "    }\n",
       "\n",
       "    .dataframe tbody tr th {\n",
       "        vertical-align: top;\n",
       "    }\n",
       "\n",
       "    .dataframe thead th {\n",
       "        text-align: right;\n",
       "    }\n",
       "</style>\n",
       "<table border=\"1\" class=\"dataframe\">\n",
       "  <thead>\n",
       "    <tr style=\"text-align: right;\">\n",
       "      <th></th>\n",
       "      <th>Channel</th>\n",
       "      <th>Region</th>\n",
       "    </tr>\n",
       "  </thead>\n",
       "  <tbody>\n",
       "    <tr>\n",
       "      <th>count</th>\n",
       "      <td>440</td>\n",
       "      <td>440</td>\n",
       "    </tr>\n",
       "    <tr>\n",
       "      <th>unique</th>\n",
       "      <td>2</td>\n",
       "      <td>3</td>\n",
       "    </tr>\n",
       "    <tr>\n",
       "      <th>top</th>\n",
       "      <td>Hotel</td>\n",
       "      <td>Other</td>\n",
       "    </tr>\n",
       "    <tr>\n",
       "      <th>freq</th>\n",
       "      <td>298</td>\n",
       "      <td>316</td>\n",
       "    </tr>\n",
       "  </tbody>\n",
       "</table>\n",
       "</div>"
      ],
      "text/plain": [
       "       Channel Region\n",
       "count      440    440\n",
       "unique       2      3\n",
       "top      Hotel  Other\n",
       "freq       298    316"
      ]
     },
     "execution_count": 127,
     "metadata": {},
     "output_type": "execute_result"
    }
   ],
   "source": [
    "df.describe(include='object')"
   ]
  },
  {
   "cell_type": "code",
   "execution_count": 128,
   "id": "ae3c3c8d",
   "metadata": {
    "ExecuteTime": {
     "end_time": "2021-11-30T13:09:09.244407Z",
     "start_time": "2021-11-30T13:09:09.221392Z"
    }
   },
   "outputs": [
    {
     "data": {
      "text/html": [
       "<div>\n",
       "<style scoped>\n",
       "    .dataframe tbody tr th:only-of-type {\n",
       "        vertical-align: middle;\n",
       "    }\n",
       "\n",
       "    .dataframe tbody tr th {\n",
       "        vertical-align: top;\n",
       "    }\n",
       "\n",
       "    .dataframe thead th {\n",
       "        text-align: right;\n",
       "    }\n",
       "</style>\n",
       "<table border=\"1\" class=\"dataframe\">\n",
       "  <thead>\n",
       "    <tr style=\"text-align: right;\">\n",
       "      <th></th>\n",
       "      <th>Fresh</th>\n",
       "      <th>Milk</th>\n",
       "      <th>Grocery</th>\n",
       "      <th>Frozen</th>\n",
       "      <th>Detergents_Paper</th>\n",
       "      <th>Delicatessen</th>\n",
       "      <th>Total</th>\n",
       "    </tr>\n",
       "    <tr>\n",
       "      <th>Channel</th>\n",
       "      <th></th>\n",
       "      <th></th>\n",
       "      <th></th>\n",
       "      <th></th>\n",
       "      <th></th>\n",
       "      <th></th>\n",
       "      <th></th>\n",
       "    </tr>\n",
       "  </thead>\n",
       "  <tbody>\n",
       "    <tr>\n",
       "      <th>Hotel</th>\n",
       "      <td>4015717</td>\n",
       "      <td>1028614</td>\n",
       "      <td>1180717</td>\n",
       "      <td>1116979</td>\n",
       "      <td>235587</td>\n",
       "      <td>421955</td>\n",
       "      <td>7999569</td>\n",
       "    </tr>\n",
       "    <tr>\n",
       "      <th>Retail</th>\n",
       "      <td>1264414</td>\n",
       "      <td>1521743</td>\n",
       "      <td>2317845</td>\n",
       "      <td>234671</td>\n",
       "      <td>1032270</td>\n",
       "      <td>248988</td>\n",
       "      <td>6619931</td>\n",
       "    </tr>\n",
       "  </tbody>\n",
       "</table>\n",
       "</div>"
      ],
      "text/plain": [
       "           Fresh     Milk  Grocery   Frozen  Detergents_Paper  Delicatessen  \\\n",
       "Channel                                                                       \n",
       "Hotel    4015717  1028614  1180717  1116979            235587        421955   \n",
       "Retail   1264414  1521743  2317845   234671           1032270        248988   \n",
       "\n",
       "           Total  \n",
       "Channel           \n",
       "Hotel    7999569  \n",
       "Retail   6619931  "
      ]
     },
     "execution_count": 128,
     "metadata": {},
     "output_type": "execute_result"
    }
   ],
   "source": [
    "df_new=df.groupby('Channel').sum()\n",
    "df_new.drop(['Buyer/Spender'], axis=1, inplace=True)\n",
    "df_new['Total'] = df_new['Fresh'] + df_new['Milk'] + df_new['Grocery'] + df_new['Frozen'] + df_new['Detergents_Paper'] + df_new['Delicatessen']\n",
    "df_new"
   ]
  },
  {
   "cell_type": "code",
   "execution_count": 129,
   "id": "192646b1",
   "metadata": {
    "ExecuteTime": {
     "end_time": "2021-11-30T13:09:09.989258Z",
     "start_time": "2021-11-30T13:09:09.966258Z"
    }
   },
   "outputs": [
    {
     "data": {
      "text/plain": [
       "Channel\n",
       "Hotel     7999569\n",
       "Retail    6619931\n",
       "Name: Total, dtype: int64"
      ]
     },
     "execution_count": 129,
     "metadata": {},
     "output_type": "execute_result"
    }
   ],
   "source": [
    "df_new['Total'].sort_values(ascending=False)"
   ]
  },
  {
   "cell_type": "markdown",
   "id": "de885f79",
   "metadata": {
    "ExecuteTime": {
     "end_time": "2021-11-29T12:19:27.210490Z",
     "start_time": "2021-11-29T12:19:27.192489Z"
    }
   },
   "source": [
    "Hotel has spent more than Retail"
   ]
  },
  {
   "cell_type": "code",
   "execution_count": 130,
   "id": "4315f37f",
   "metadata": {
    "ExecuteTime": {
     "end_time": "2021-11-30T13:09:11.500598Z",
     "start_time": "2021-11-30T13:09:11.488595Z"
    }
   },
   "outputs": [
    {
     "data": {
      "text/plain": [
       "array(['Other', 'Lisbon', 'Oporto'], dtype=object)"
      ]
     },
     "execution_count": 130,
     "metadata": {},
     "output_type": "execute_result"
    }
   ],
   "source": [
    "df['Region'].unique()"
   ]
  },
  {
   "cell_type": "code",
   "execution_count": 131,
   "id": "fc32aac1",
   "metadata": {
    "ExecuteTime": {
     "end_time": "2021-11-30T13:09:12.318067Z",
     "start_time": "2021-11-30T13:09:12.286811Z"
    }
   },
   "outputs": [
    {
     "data": {
      "text/html": [
       "<div>\n",
       "<style scoped>\n",
       "    .dataframe tbody tr th:only-of-type {\n",
       "        vertical-align: middle;\n",
       "    }\n",
       "\n",
       "    .dataframe tbody tr th {\n",
       "        vertical-align: top;\n",
       "    }\n",
       "\n",
       "    .dataframe thead th {\n",
       "        text-align: right;\n",
       "    }\n",
       "</style>\n",
       "<table border=\"1\" class=\"dataframe\">\n",
       "  <thead>\n",
       "    <tr style=\"text-align: right;\">\n",
       "      <th></th>\n",
       "      <th>Fresh</th>\n",
       "      <th>Milk</th>\n",
       "      <th>Grocery</th>\n",
       "      <th>Frozen</th>\n",
       "      <th>Detergents_Paper</th>\n",
       "      <th>Delicatessen</th>\n",
       "      <th>Total</th>\n",
       "    </tr>\n",
       "    <tr>\n",
       "      <th>Region</th>\n",
       "      <th></th>\n",
       "      <th></th>\n",
       "      <th></th>\n",
       "      <th></th>\n",
       "      <th></th>\n",
       "      <th></th>\n",
       "      <th></th>\n",
       "    </tr>\n",
       "  </thead>\n",
       "  <tbody>\n",
       "    <tr>\n",
       "      <th>Lisbon</th>\n",
       "      <td>854833</td>\n",
       "      <td>422454</td>\n",
       "      <td>570037</td>\n",
       "      <td>231026</td>\n",
       "      <td>204136</td>\n",
       "      <td>104327</td>\n",
       "      <td>2386813</td>\n",
       "    </tr>\n",
       "    <tr>\n",
       "      <th>Oporto</th>\n",
       "      <td>464721</td>\n",
       "      <td>239144</td>\n",
       "      <td>433274</td>\n",
       "      <td>190132</td>\n",
       "      <td>173311</td>\n",
       "      <td>54506</td>\n",
       "      <td>1555088</td>\n",
       "    </tr>\n",
       "    <tr>\n",
       "      <th>Other</th>\n",
       "      <td>3960577</td>\n",
       "      <td>1888759</td>\n",
       "      <td>2495251</td>\n",
       "      <td>930492</td>\n",
       "      <td>890410</td>\n",
       "      <td>512110</td>\n",
       "      <td>10677599</td>\n",
       "    </tr>\n",
       "  </tbody>\n",
       "</table>\n",
       "</div>"
      ],
      "text/plain": [
       "          Fresh     Milk  Grocery  Frozen  Detergents_Paper  Delicatessen  \\\n",
       "Region                                                                      \n",
       "Lisbon   854833   422454   570037  231026            204136        104327   \n",
       "Oporto   464721   239144   433274  190132            173311         54506   \n",
       "Other   3960577  1888759  2495251  930492            890410        512110   \n",
       "\n",
       "           Total  \n",
       "Region            \n",
       "Lisbon   2386813  \n",
       "Oporto   1555088  \n",
       "Other   10677599  "
      ]
     },
     "execution_count": 131,
     "metadata": {},
     "output_type": "execute_result"
    }
   ],
   "source": [
    "DFR = df.groupby('Region').sum()\n",
    "DFR.drop(['Buyer/Spender'], axis=1, inplace=True)\n",
    "DFR['Total'] = DFR['Fresh'] + DFR['Milk'] + DFR['Grocery'] + DFR['Frozen'] + DFR['Detergents_Paper'] + DFR['Delicatessen']\n",
    "DFR"
   ]
  },
  {
   "cell_type": "code",
   "execution_count": 132,
   "id": "22101666",
   "metadata": {
    "ExecuteTime": {
     "end_time": "2021-11-30T13:09:12.944860Z",
     "start_time": "2021-11-30T13:09:12.919860Z"
    }
   },
   "outputs": [
    {
     "data": {
      "text/html": [
       "<div>\n",
       "<style scoped>\n",
       "    .dataframe tbody tr th:only-of-type {\n",
       "        vertical-align: middle;\n",
       "    }\n",
       "\n",
       "    .dataframe tbody tr th {\n",
       "        vertical-align: top;\n",
       "    }\n",
       "\n",
       "    .dataframe thead th {\n",
       "        text-align: right;\n",
       "    }\n",
       "</style>\n",
       "<table border=\"1\" class=\"dataframe\">\n",
       "  <thead>\n",
       "    <tr style=\"text-align: right;\">\n",
       "      <th></th>\n",
       "      <th>Fresh</th>\n",
       "      <th>Milk</th>\n",
       "      <th>Grocery</th>\n",
       "      <th>Frozen</th>\n",
       "      <th>Detergents_Paper</th>\n",
       "      <th>Delicatessen</th>\n",
       "      <th>Total</th>\n",
       "    </tr>\n",
       "    <tr>\n",
       "      <th>Region</th>\n",
       "      <th></th>\n",
       "      <th></th>\n",
       "      <th></th>\n",
       "      <th></th>\n",
       "      <th></th>\n",
       "      <th></th>\n",
       "      <th></th>\n",
       "    </tr>\n",
       "  </thead>\n",
       "  <tbody>\n",
       "    <tr>\n",
       "      <th>Other</th>\n",
       "      <td>3960577</td>\n",
       "      <td>1888759</td>\n",
       "      <td>2495251</td>\n",
       "      <td>930492</td>\n",
       "      <td>890410</td>\n",
       "      <td>512110</td>\n",
       "      <td>10677599</td>\n",
       "    </tr>\n",
       "    <tr>\n",
       "      <th>Lisbon</th>\n",
       "      <td>854833</td>\n",
       "      <td>422454</td>\n",
       "      <td>570037</td>\n",
       "      <td>231026</td>\n",
       "      <td>204136</td>\n",
       "      <td>104327</td>\n",
       "      <td>2386813</td>\n",
       "    </tr>\n",
       "    <tr>\n",
       "      <th>Oporto</th>\n",
       "      <td>464721</td>\n",
       "      <td>239144</td>\n",
       "      <td>433274</td>\n",
       "      <td>190132</td>\n",
       "      <td>173311</td>\n",
       "      <td>54506</td>\n",
       "      <td>1555088</td>\n",
       "    </tr>\n",
       "  </tbody>\n",
       "</table>\n",
       "</div>"
      ],
      "text/plain": [
       "          Fresh     Milk  Grocery  Frozen  Detergents_Paper  Delicatessen  \\\n",
       "Region                                                                      \n",
       "Other   3960577  1888759  2495251  930492            890410        512110   \n",
       "Lisbon   854833   422454   570037  231026            204136        104327   \n",
       "Oporto   464721   239144   433274  190132            173311         54506   \n",
       "\n",
       "           Total  \n",
       "Region            \n",
       "Other   10677599  \n",
       "Lisbon   2386813  \n",
       "Oporto   1555088  "
      ]
     },
     "execution_count": 132,
     "metadata": {},
     "output_type": "execute_result"
    }
   ],
   "source": [
    "DFR.sort_values(by='Total', ascending=False)"
   ]
  },
  {
   "cell_type": "markdown",
   "id": "4f953349",
   "metadata": {},
   "source": [
    "other has the higest spend"
   ]
  },
  {
   "cell_type": "code",
   "execution_count": 106,
   "id": "92b9c62d",
   "metadata": {
    "ExecuteTime": {
     "end_time": "2021-12-06T05:54:24.857746Z",
     "start_time": "2021-12-06T05:54:24.828744Z"
    }
   },
   "outputs": [],
   "source": [
    "table = pd.pivot_table(data=df,index=['Region'])\n",
    "a = table.drop('Buyer/Spender', axis=1)"
   ]
  },
  {
   "cell_type": "code",
   "execution_count": 107,
   "id": "7b7e4b3c",
   "metadata": {
    "ExecuteTime": {
     "end_time": "2021-12-06T05:54:34.199288Z",
     "start_time": "2021-12-06T05:54:33.889844Z"
    }
   },
   "outputs": [
    {
     "data": {
      "text/plain": [
       "(array([0, 1, 2]),\n",
       " [Text(0, 0, 'Lisbon'), Text(1, 0, 'Oporto'), Text(2, 0, 'Other')])"
      ]
     },
     "execution_count": 107,
     "metadata": {},
     "output_type": "execute_result"
    },
    {
     "data": {
      "text/plain": [
       "<Figure size 1152x720 with 0 Axes>"
      ]
     },
     "metadata": {},
     "output_type": "display_data"
    },
    {
     "data": {
      "image/png": "[encoded data removed]",
      "text/plain": [
       "<Figure size 1152x720 with 1 Axes>"
      ]
     },
     "metadata": {
      "needs_background": "light"
     },
     "output_type": "display_data"
    }
   ],
   "source": [
    "plt.figure(figsize=(16,10))\n",
    "a.plot(kind='bar', figsize=(16,10))\n",
    "plt.title('Regional Bar Plot of Products and Expenditure', loc='right')\n",
    "plt.xlabel('Region')\n",
    "plt.ylabel('Annual Spending')\n",
    "plt.xticks(rotation=0)"
   ]
  },
  {
   "cell_type": "code",
   "execution_count": 108,
   "id": "ce1888c2",
   "metadata": {
    "ExecuteTime": {
     "end_time": "2021-12-06T05:59:49.297855Z",
     "start_time": "2021-12-06T05:59:49.274855Z"
    }
   },
   "outputs": [],
   "source": [
    "table2 = pd.pivot_table(data=df,index=['Channel'])\n",
    "b=table2.drop('Buyer/Spender', axis=1)"
   ]
  },
  {
   "cell_type": "code",
   "execution_count": 110,
   "id": "1d54db6b",
   "metadata": {
    "ExecuteTime": {
     "end_time": "2021-12-06T06:00:33.280889Z",
     "start_time": "2021-12-06T06:00:32.989047Z"
    }
   },
   "outputs": [
    {
     "data": {
      "text/plain": [
       "(array([0, 1]), [Text(0, 0, 'Hotel'), Text(1, 0, 'Retail')])"
      ]
     },
     "execution_count": 110,
     "metadata": {},
     "output_type": "execute_result"
    },
    {
     "data": {
      "image/png": "[encoded data removed]",
      "text/plain": [
       "<Figure size 1152x720 with 1 Axes>"
      ]
     },
     "metadata": {
      "needs_background": "light"
     },
     "output_type": "display_data"
    }
   ],
   "source": [
    "b.plot(kind='bar', figsize=(16,10))\n",
    "plt.title('Bar Plot of Expenditure accross Channels', loc='right')\n",
    "plt.xlabel('Channel')\n",
    "plt.ylabel('Annual Spending')\n",
    "plt.xticks(rotation=0)"
   ]
  },
  {
   "cell_type": "code",
   "execution_count": 137,
   "id": "4580b5e0",
   "metadata": {
    "ExecuteTime": {
     "end_time": "2021-11-30T13:09:17.112742Z",
     "start_time": "2021-11-30T13:09:17.092819Z"
    }
   },
   "outputs": [
    {
     "name": "stdout",
     "output_type": "stream",
     "text": [
      "The coefficient of variation of Fresh: 1.0539179237473149\n",
      "The coefficient of variation of Milk: 1.2732985840065414\n",
      "The coefficient of variation of Grocery: 1.1951743730016824\n",
      "The coefficient of variation of Frozen: 1.5803323836352914\n",
      "The coefficient of variation of Detergents Paper: 1.6546471385005155\n",
      "The coefficient of variation of Delicatessen: 1.8494068981158382\n"
     ]
    }
   ],
   "source": [
    "coeff_varFresh = df['Fresh'].std()/df['Fresh'].mean()\n",
    "coeff_varMilk = df['Milk'].std()/df['Milk'].mean()\n",
    "coeff_varGroc = df['Grocery'].std()/df['Grocery'].mean()\n",
    "coeff_varFrozen = df['Frozen'].std()/df['Frozen'].mean()\n",
    "coeff_varDet    = df['Detergents_Paper'].std()/df['Detergents_Paper'].mean()\n",
    "coeff_varDeli   = df['Delicatessen'].std()/df['Delicatessen'].mean()\n",
    "\n",
    "print('The coefficient of variation of Fresh:', coeff_varFresh)\n",
    "print('The coefficient of variation of Milk:', coeff_varMilk)\n",
    "print('The coefficient of variation of Grocery:', coeff_varGroc)\n",
    "print('The coefficient of variation of Frozen:', coeff_varFrozen)\n",
    "print('The coefficient of variation of Detergents Paper:', coeff_varDet)\n",
    "print('The coefficient of variation of Delicatessen:', coeff_varDeli)"
   ]
  },
  {
   "cell_type": "markdown",
   "id": "b3c9ff02",
   "metadata": {},
   "source": [
    "Using Coefficient of Variation we find out the least value is of Category “Fresh” (1.05) and highest value is of Category “Delicatessen” (1.84)\n",
    "\n",
    "So from the given data it is clear that most inconsistent behavior shown by item – Delicatessen\n",
    "\n",
    "And least inconsistent behavior shown by item – Fresh. As per the analysis, I find out that there are inconsistencies in spending of different items (by calculating Coefficient of Variation), which should be minimized. The spending of Hotel and Retail channel are different which should be more or less equal. And also spent should equal for different regions. Need to focus on other items also than “Fresh” and “Grocery”"
   ]
  },
  {
   "cell_type": "code",
   "execution_count": 111,
   "id": "f0e9b6ad",
   "metadata": {
    "ExecuteTime": {
     "end_time": "2021-12-06T06:29:54.518794Z",
     "start_time": "2021-12-06T06:29:54.197297Z"
    }
   },
   "outputs": [
    {
     "data": {
      "text/plain": [
       "Text(0, 0.5, 'Annual Spending')"
      ]
     },
     "execution_count": 111,
     "metadata": {},
     "output_type": "execute_result"
    },
    {
     "data": {
      "image/png": "[encoded data removed]",
      "text/plain": [
       "<Figure size 1152x864 with 1 Axes>"
      ]
     },
     "metadata": {
      "needs_background": "light"
     },
     "output_type": "display_data"
    }
   ],
   "source": [
    "df.drop(labels='Buyer/Spender', axis=1).boxplot(figsize=(16,12))\n",
    "plt.title('Box Plot of Products Vs Expenditure', loc='right')\n",
    "plt.xlabel('Product Varities')\n",
    "plt.ylabel('Annual Spending')"
   ]
  },
  {
   "cell_type": "markdown",
   "id": "7a65112d",
   "metadata": {},
   "source": []
  },
  {
   "cell_type": "code",
   "execution_count": 112,
   "id": "8aca73d6",
   "metadata": {
    "ExecuteTime": {
     "end_time": "2021-12-06T06:55:36.237208Z",
     "start_time": "2021-12-06T06:55:36.172387Z"
    }
   },
   "outputs": [
    {
     "data": {
      "text/html": [
       "<div>\n",
       "<style scoped>\n",
       "    .dataframe tbody tr th:only-of-type {\n",
       "        vertical-align: middle;\n",
       "    }\n",
       "\n",
       "    .dataframe tbody tr th {\n",
       "        vertical-align: top;\n",
       "    }\n",
       "\n",
       "    .dataframe thead th {\n",
       "        text-align: right;\n",
       "    }\n",
       "</style>\n",
       "<table border=\"1\" class=\"dataframe\">\n",
       "  <thead>\n",
       "    <tr style=\"text-align: right;\">\n",
       "      <th></th>\n",
       "      <th>ID</th>\n",
       "      <th>Gender</th>\n",
       "      <th>Age</th>\n",
       "      <th>Class</th>\n",
       "      <th>Major</th>\n",
       "      <th>Grad Intention</th>\n",
       "      <th>GPA</th>\n",
       "      <th>Employment</th>\n",
       "      <th>Salary</th>\n",
       "      <th>Social Networking</th>\n",
       "      <th>Satisfaction</th>\n",
       "      <th>Spending</th>\n",
       "      <th>Computer</th>\n",
       "      <th>Text Messages</th>\n",
       "    </tr>\n",
       "  </thead>\n",
       "  <tbody>\n",
       "    <tr>\n",
       "      <th>0</th>\n",
       "      <td>1</td>\n",
       "      <td>Female</td>\n",
       "      <td>20</td>\n",
       "      <td>Junior</td>\n",
       "      <td>Other</td>\n",
       "      <td>Yes</td>\n",
       "      <td>2.90</td>\n",
       "      <td>Full-Time</td>\n",
       "      <td>50.00</td>\n",
       "      <td>1</td>\n",
       "      <td>3</td>\n",
       "      <td>350</td>\n",
       "      <td>Laptop</td>\n",
       "      <td>200</td>\n",
       "    </tr>\n",
       "    <tr>\n",
       "      <th>1</th>\n",
       "      <td>2</td>\n",
       "      <td>Male</td>\n",
       "      <td>23</td>\n",
       "      <td>Senior</td>\n",
       "      <td>Management</td>\n",
       "      <td>Yes</td>\n",
       "      <td>3.60</td>\n",
       "      <td>Part-Time</td>\n",
       "      <td>25.00</td>\n",
       "      <td>1</td>\n",
       "      <td>4</td>\n",
       "      <td>360</td>\n",
       "      <td>Laptop</td>\n",
       "      <td>50</td>\n",
       "    </tr>\n",
       "    <tr>\n",
       "      <th>2</th>\n",
       "      <td>3</td>\n",
       "      <td>Male</td>\n",
       "      <td>21</td>\n",
       "      <td>Junior</td>\n",
       "      <td>Other</td>\n",
       "      <td>Yes</td>\n",
       "      <td>2.50</td>\n",
       "      <td>Part-Time</td>\n",
       "      <td>45.00</td>\n",
       "      <td>2</td>\n",
       "      <td>4</td>\n",
       "      <td>600</td>\n",
       "      <td>Laptop</td>\n",
       "      <td>200</td>\n",
       "    </tr>\n",
       "    <tr>\n",
       "      <th>3</th>\n",
       "      <td>4</td>\n",
       "      <td>Male</td>\n",
       "      <td>21</td>\n",
       "      <td>Junior</td>\n",
       "      <td>CIS</td>\n",
       "      <td>Yes</td>\n",
       "      <td>2.50</td>\n",
       "      <td>Full-Time</td>\n",
       "      <td>40.00</td>\n",
       "      <td>4</td>\n",
       "      <td>6</td>\n",
       "      <td>600</td>\n",
       "      <td>Laptop</td>\n",
       "      <td>250</td>\n",
       "    </tr>\n",
       "    <tr>\n",
       "      <th>4</th>\n",
       "      <td>5</td>\n",
       "      <td>Male</td>\n",
       "      <td>23</td>\n",
       "      <td>Senior</td>\n",
       "      <td>Other</td>\n",
       "      <td>Undecided</td>\n",
       "      <td>2.80</td>\n",
       "      <td>Unemployed</td>\n",
       "      <td>40.00</td>\n",
       "      <td>2</td>\n",
       "      <td>4</td>\n",
       "      <td>500</td>\n",
       "      <td>Laptop</td>\n",
       "      <td>100</td>\n",
       "    </tr>\n",
       "  </tbody>\n",
       "</table>\n",
       "</div>"
      ],
      "text/plain": [
       "   ID  Gender  Age   Class       Major Grad Intention  GPA  Employment  \\\n",
       "0   1  Female   20  Junior       Other            Yes 2.90   Full-Time   \n",
       "1   2    Male   23  Senior  Management            Yes 3.60   Part-Time   \n",
       "2   3    Male   21  Junior       Other            Yes 2.50   Part-Time   \n",
       "3   4    Male   21  Junior         CIS            Yes 2.50   Full-Time   \n",
       "4   5    Male   23  Senior       Other      Undecided 2.80  Unemployed   \n",
       "\n",
       "   Salary  Social Networking  Satisfaction  Spending Computer  Text Messages  \n",
       "0   50.00                  1             3       350   Laptop            200  \n",
       "1   25.00                  1             4       360   Laptop             50  \n",
       "2   45.00                  2             4       600   Laptop            200  \n",
       "3   40.00                  4             6       600   Laptop            250  \n",
       "4   40.00                  2             4       500   Laptop            100  "
      ]
     },
     "execution_count": 112,
     "metadata": {},
     "output_type": "execute_result"
    }
   ],
   "source": [
    "mydata= pd.read_csv('Survey-1.csv')\n",
    "mydata.head()"
   ]
  },
  {
   "cell_type": "code",
   "execution_count": 113,
   "id": "3a7f8c5a",
   "metadata": {
    "ExecuteTime": {
     "end_time": "2021-12-06T07:04:37.718950Z",
     "start_time": "2021-12-06T07:04:37.668298Z"
    }
   },
   "outputs": [
    {
     "data": {
      "text/html": [
       "<div>\n",
       "<style scoped>\n",
       "    .dataframe tbody tr th:only-of-type {\n",
       "        vertical-align: middle;\n",
       "    }\n",
       "\n",
       "    .dataframe tbody tr th {\n",
       "        vertical-align: top;\n",
       "    }\n",
       "\n",
       "    .dataframe thead th {\n",
       "        text-align: right;\n",
       "    }\n",
       "</style>\n",
       "<table border=\"1\" class=\"dataframe\">\n",
       "  <thead>\n",
       "    <tr style=\"text-align: right;\">\n",
       "      <th>Major</th>\n",
       "      <th>Accounting</th>\n",
       "      <th>CIS</th>\n",
       "      <th>Economics/Finance</th>\n",
       "      <th>International Business</th>\n",
       "      <th>Management</th>\n",
       "      <th>Other</th>\n",
       "      <th>Retailing/Marketing</th>\n",
       "      <th>Undecided</th>\n",
       "    </tr>\n",
       "    <tr>\n",
       "      <th>Gender</th>\n",
       "      <th></th>\n",
       "      <th></th>\n",
       "      <th></th>\n",
       "      <th></th>\n",
       "      <th></th>\n",
       "      <th></th>\n",
       "      <th></th>\n",
       "      <th></th>\n",
       "    </tr>\n",
       "  </thead>\n",
       "  <tbody>\n",
       "    <tr>\n",
       "      <th>Female</th>\n",
       "      <td>3</td>\n",
       "      <td>3</td>\n",
       "      <td>7</td>\n",
       "      <td>4</td>\n",
       "      <td>4</td>\n",
       "      <td>3</td>\n",
       "      <td>9</td>\n",
       "      <td>0</td>\n",
       "    </tr>\n",
       "    <tr>\n",
       "      <th>Male</th>\n",
       "      <td>4</td>\n",
       "      <td>1</td>\n",
       "      <td>4</td>\n",
       "      <td>2</td>\n",
       "      <td>6</td>\n",
       "      <td>4</td>\n",
       "      <td>5</td>\n",
       "      <td>3</td>\n",
       "    </tr>\n",
       "  </tbody>\n",
       "</table>\n",
       "</div>"
      ],
      "text/plain": [
       "Major   Accounting  CIS  Economics/Finance  International Business  \\\n",
       "Gender                                                               \n",
       "Female           3    3                  7                       4   \n",
       "Male             4    1                  4                       2   \n",
       "\n",
       "Major   Management  Other  Retailing/Marketing  Undecided  \n",
       "Gender                                                     \n",
       "Female           4      3                    9          0  \n",
       "Male             6      4                    5          3  "
      ]
     },
     "execution_count": 113,
     "metadata": {},
     "output_type": "execute_result"
    }
   ],
   "source": [
    "pd.crosstab(mydata['Gender'], mydata['Major'])"
   ]
  },
  {
   "cell_type": "code",
   "execution_count": 114,
   "id": "4b273b50",
   "metadata": {
    "ExecuteTime": {
     "end_time": "2021-12-06T07:04:38.729399Z",
     "start_time": "2021-12-06T07:04:38.704398Z"
    }
   },
   "outputs": [
    {
     "data": {
      "text/html": [
       "<div>\n",
       "<style scoped>\n",
       "    .dataframe tbody tr th:only-of-type {\n",
       "        vertical-align: middle;\n",
       "    }\n",
       "\n",
       "    .dataframe tbody tr th {\n",
       "        vertical-align: top;\n",
       "    }\n",
       "\n",
       "    .dataframe thead th {\n",
       "        text-align: right;\n",
       "    }\n",
       "</style>\n",
       "<table border=\"1\" class=\"dataframe\">\n",
       "  <thead>\n",
       "    <tr style=\"text-align: right;\">\n",
       "      <th>Grad Intention</th>\n",
       "      <th>No</th>\n",
       "      <th>Undecided</th>\n",
       "      <th>Yes</th>\n",
       "    </tr>\n",
       "    <tr>\n",
       "      <th>Gender</th>\n",
       "      <th></th>\n",
       "      <th></th>\n",
       "      <th></th>\n",
       "    </tr>\n",
       "  </thead>\n",
       "  <tbody>\n",
       "    <tr>\n",
       "      <th>Female</th>\n",
       "      <td>9</td>\n",
       "      <td>13</td>\n",
       "      <td>11</td>\n",
       "    </tr>\n",
       "    <tr>\n",
       "      <th>Male</th>\n",
       "      <td>3</td>\n",
       "      <td>9</td>\n",
       "      <td>17</td>\n",
       "    </tr>\n",
       "  </tbody>\n",
       "</table>\n",
       "</div>"
      ],
      "text/plain": [
       "Grad Intention  No  Undecided  Yes\n",
       "Gender                            \n",
       "Female           9         13   11\n",
       "Male             3          9   17"
      ]
     },
     "execution_count": 114,
     "metadata": {},
     "output_type": "execute_result"
    }
   ],
   "source": [
    "pd.crosstab(mydata['Gender'], mydata['Grad Intention'])"
   ]
  },
  {
   "cell_type": "code",
   "execution_count": 115,
   "id": "2142b29b",
   "metadata": {
    "ExecuteTime": {
     "end_time": "2021-12-06T07:04:39.331422Z",
     "start_time": "2021-12-06T07:04:39.299418Z"
    }
   },
   "outputs": [
    {
     "data": {
      "text/html": [
       "<div>\n",
       "<style scoped>\n",
       "    .dataframe tbody tr th:only-of-type {\n",
       "        vertical-align: middle;\n",
       "    }\n",
       "\n",
       "    .dataframe tbody tr th {\n",
       "        vertical-align: top;\n",
       "    }\n",
       "\n",
       "    .dataframe thead th {\n",
       "        text-align: right;\n",
       "    }\n",
       "</style>\n",
       "<table border=\"1\" class=\"dataframe\">\n",
       "  <thead>\n",
       "    <tr style=\"text-align: right;\">\n",
       "      <th>Employment</th>\n",
       "      <th>Full-Time</th>\n",
       "      <th>Part-Time</th>\n",
       "      <th>Unemployed</th>\n",
       "    </tr>\n",
       "    <tr>\n",
       "      <th>Gender</th>\n",
       "      <th></th>\n",
       "      <th></th>\n",
       "      <th></th>\n",
       "    </tr>\n",
       "  </thead>\n",
       "  <tbody>\n",
       "    <tr>\n",
       "      <th>Female</th>\n",
       "      <td>3</td>\n",
       "      <td>24</td>\n",
       "      <td>6</td>\n",
       "    </tr>\n",
       "    <tr>\n",
       "      <th>Male</th>\n",
       "      <td>7</td>\n",
       "      <td>19</td>\n",
       "      <td>3</td>\n",
       "    </tr>\n",
       "  </tbody>\n",
       "</table>\n",
       "</div>"
      ],
      "text/plain": [
       "Employment  Full-Time  Part-Time  Unemployed\n",
       "Gender                                      \n",
       "Female              3         24           6\n",
       "Male                7         19           3"
      ]
     },
     "execution_count": 115,
     "metadata": {},
     "output_type": "execute_result"
    }
   ],
   "source": [
    "pd.crosstab(mydata['Gender'], mydata['Employment'])"
   ]
  },
  {
   "cell_type": "code",
   "execution_count": 116,
   "id": "925ca6b1",
   "metadata": {
    "ExecuteTime": {
     "end_time": "2021-12-06T07:04:39.832318Z",
     "start_time": "2021-12-06T07:04:39.800177Z"
    }
   },
   "outputs": [
    {
     "data": {
      "text/html": [
       "<div>\n",
       "<style scoped>\n",
       "    .dataframe tbody tr th:only-of-type {\n",
       "        vertical-align: middle;\n",
       "    }\n",
       "\n",
       "    .dataframe tbody tr th {\n",
       "        vertical-align: top;\n",
       "    }\n",
       "\n",
       "    .dataframe thead th {\n",
       "        text-align: right;\n",
       "    }\n",
       "</style>\n",
       "<table border=\"1\" class=\"dataframe\">\n",
       "  <thead>\n",
       "    <tr style=\"text-align: right;\">\n",
       "      <th>Computer</th>\n",
       "      <th>Desktop</th>\n",
       "      <th>Laptop</th>\n",
       "      <th>Tablet</th>\n",
       "    </tr>\n",
       "    <tr>\n",
       "      <th>Gender</th>\n",
       "      <th></th>\n",
       "      <th></th>\n",
       "      <th></th>\n",
       "    </tr>\n",
       "  </thead>\n",
       "  <tbody>\n",
       "    <tr>\n",
       "      <th>Female</th>\n",
       "      <td>2</td>\n",
       "      <td>29</td>\n",
       "      <td>2</td>\n",
       "    </tr>\n",
       "    <tr>\n",
       "      <th>Male</th>\n",
       "      <td>3</td>\n",
       "      <td>26</td>\n",
       "      <td>0</td>\n",
       "    </tr>\n",
       "  </tbody>\n",
       "</table>\n",
       "</div>"
      ],
      "text/plain": [
       "Computer  Desktop  Laptop  Tablet\n",
       "Gender                           \n",
       "Female          2      29       2\n",
       "Male            3      26       0"
      ]
     },
     "execution_count": 116,
     "metadata": {},
     "output_type": "execute_result"
    }
   ],
   "source": [
    "pd.crosstab(mydata['Gender'], mydata['Computer'])"
   ]
  },
  {
   "cell_type": "code",
   "execution_count": 117,
   "id": "c1e28442",
   "metadata": {
    "ExecuteTime": {
     "end_time": "2021-12-06T07:04:40.469501Z",
     "start_time": "2021-12-06T07:04:40.455501Z"
    }
   },
   "outputs": [
    {
     "data": {
      "text/plain": [
       "Female    33\n",
       "Male      29\n",
       "Name: Gender, dtype: int64"
      ]
     },
     "execution_count": 117,
     "metadata": {},
     "output_type": "execute_result"
    }
   ],
   "source": [
    "mydata['Gender'].value_counts()"
   ]
  },
  {
   "cell_type": "code",
   "execution_count": 119,
   "id": "ca6c1580",
   "metadata": {
    "ExecuteTime": {
     "end_time": "2021-12-06T07:05:55.289094Z",
     "start_time": "2021-12-06T07:05:55.270092Z"
    }
   },
   "outputs": [
    {
     "name": "stdout",
     "output_type": "stream",
     "text": [
      "The probabilty of a randomly selected CMSU student will be a male: 46.77 %\n"
     ]
    }
   ],
   "source": [
    "print('The probabilty of a randomly selected CMSU student will be a male:', round(29/62*100,2),'%')"
   ]
  },
  {
   "cell_type": "code",
   "execution_count": 120,
   "id": "adab7d93",
   "metadata": {
    "ExecuteTime": {
     "end_time": "2021-12-06T07:08:13.140368Z",
     "start_time": "2021-12-06T07:08:13.127366Z"
    }
   },
   "outputs": [
    {
     "name": "stdout",
     "output_type": "stream",
     "text": [
      "The probability of a randomly selected CMSU student will be a female: 53.23 %\n"
     ]
    }
   ],
   "source": [
    "print('The probability of a randomly selected CMSU student will be a female:', round(33/62*100,2),'%')"
   ]
  },
  {
   "cell_type": "markdown",
   "id": "ed8f2212",
   "metadata": {},
   "source": [
    "2.3.1. Find the conditional probability of different majors among the male students in CMSU.\n",
    "\n",
    "2.3.2 Find the conditional probability of different majors among the female students of CMSU."
   ]
  },
  {
   "cell_type": "code",
   "execution_count": 80,
   "id": "5dd4197f",
   "metadata": {
    "ExecuteTime": {
     "end_time": "2021-12-05T11:16:13.769912Z",
     "start_time": "2021-12-05T11:16:13.729225Z"
    }
   },
   "outputs": [
    {
     "data": {
      "text/html": [
       "<div>\n",
       "<style scoped>\n",
       "    .dataframe tbody tr th:only-of-type {\n",
       "        vertical-align: middle;\n",
       "    }\n",
       "\n",
       "    .dataframe tbody tr th {\n",
       "        vertical-align: top;\n",
       "    }\n",
       "\n",
       "    .dataframe thead th {\n",
       "        text-align: right;\n",
       "    }\n",
       "</style>\n",
       "<table border=\"1\" class=\"dataframe\">\n",
       "  <thead>\n",
       "    <tr style=\"text-align: right;\">\n",
       "      <th>Major</th>\n",
       "      <th>Accounting</th>\n",
       "      <th>CIS</th>\n",
       "      <th>Economics/Finance</th>\n",
       "      <th>International Business</th>\n",
       "      <th>Management</th>\n",
       "      <th>Other</th>\n",
       "      <th>Retailing/Marketing</th>\n",
       "      <th>Undecided</th>\n",
       "    </tr>\n",
       "    <tr>\n",
       "      <th>Gender</th>\n",
       "      <th></th>\n",
       "      <th></th>\n",
       "      <th></th>\n",
       "      <th></th>\n",
       "      <th></th>\n",
       "      <th></th>\n",
       "      <th></th>\n",
       "      <th></th>\n",
       "    </tr>\n",
       "  </thead>\n",
       "  <tbody>\n",
       "    <tr>\n",
       "      <th>Female</th>\n",
       "      <td>3</td>\n",
       "      <td>3</td>\n",
       "      <td>7</td>\n",
       "      <td>4</td>\n",
       "      <td>4</td>\n",
       "      <td>3</td>\n",
       "      <td>9</td>\n",
       "      <td>0</td>\n",
       "    </tr>\n",
       "    <tr>\n",
       "      <th>Male</th>\n",
       "      <td>4</td>\n",
       "      <td>1</td>\n",
       "      <td>4</td>\n",
       "      <td>2</td>\n",
       "      <td>6</td>\n",
       "      <td>4</td>\n",
       "      <td>5</td>\n",
       "      <td>3</td>\n",
       "    </tr>\n",
       "  </tbody>\n",
       "</table>\n",
       "</div>"
      ],
      "text/plain": [
       "Major   Accounting  CIS  Economics/Finance  International Business  \\\n",
       "Gender                                                               \n",
       "Female           3    3                  7                       4   \n",
       "Male             4    1                  4                       2   \n",
       "\n",
       "Major   Management  Other  Retailing/Marketing  Undecided  \n",
       "Gender                                                     \n",
       "Female           4      3                    9          0  \n",
       "Male             6      4                    5          3  "
      ]
     },
     "execution_count": 80,
     "metadata": {},
     "output_type": "execute_result"
    }
   ],
   "source": [
    "pd.crosstab(mydata['Gender'], mydata['Major'])"
   ]
  },
  {
   "cell_type": "code",
   "execution_count": 81,
   "id": "770a07d9",
   "metadata": {
    "ExecuteTime": {
     "end_time": "2021-12-05T11:16:14.535830Z",
     "start_time": "2021-12-05T11:16:14.518539Z"
    }
   },
   "outputs": [
    {
     "name": "stdout",
     "output_type": "stream",
     "text": [
      "The conditional probability of Males opting for Accounting is: 13.79 %\n",
      "The conditional probability of Males opting for CIS is: 3.45 %\n",
      "The conditional probability of Males opting for Economics/Finance is: 13.79 %\n",
      "The conditional probability of Males opting for International Business is: 6.9 %\n",
      "The conditional probability of Males opting for Management is: 20.69 %\n",
      "The conditional probability of Males opting for Other is: 13.79 %\n",
      "The conditional probability of Males opting for Retail/Marketing is: 17.24 %\n",
      "The conditional probability of Males opting for Undecided is: 10.34 %\n"
     ]
    }
   ],
   "source": [
    "print('The conditional probability of Males opting for Accounting is:',round((4/29*100), 2),'%')\n",
    "print('The conditional probability of Males opting for CIS is:',round((1/29*100), 2),'%')\n",
    "print('The conditional probability of Males opting for Economics/Finance is:',round((4/29*100), 2),'%')\n",
    "print('The conditional probability of Males opting for International Business is:', round((2/29*100), 2),'%')\n",
    "print('The conditional probability of Males opting for Management is:', round((6/29*100), 2),'%')\n",
    "print('The conditional probability of Males opting for Other is:', round((4/29*100), 2),'%')\n",
    "print('The conditional probability of Males opting for Retail/Marketing is:',round((5/29*100), 2),'%')\n",
    "print('The conditional probability of Males opting for Undecided is:',round((3/29*100), 2),'%')"
   ]
  },
  {
   "cell_type": "code",
   "execution_count": 82,
   "id": "5d6ca8b9",
   "metadata": {
    "ExecuteTime": {
     "end_time": "2021-12-05T11:16:15.356688Z",
     "start_time": "2021-12-05T11:16:15.325987Z"
    }
   },
   "outputs": [
    {
     "name": "stdout",
     "output_type": "stream",
     "text": [
      "The conditional probability of Females opting for Accounting is: 9.09 %\n",
      "The conditional probability of Females opting for CIS is: 9.09 %\n",
      "The conditional probability of Females opting for Economics/Finance is: 21.21 %\n",
      "The conditional probability of Females opting for International Business is: 12.12 %\n",
      "The conditional probability of Females opting for Management is: 12.12 %\n",
      "The conditional probability of Females opting for Other is: 9.09 %\n",
      "The conditional probability of Females opting for Retail/Marketing is: 27.27 %\n",
      "The conditional probability of Females opting for Undecided is: 0.0 %\n"
     ]
    }
   ],
   "source": [
    "print('The conditional probability of Females opting for Accounting is:', round((3/33*100), 2),'%')\n",
    "print('The conditional probability of Females opting for CIS is:', round((3/33*100), 2),'%')\n",
    "print('The conditional probability of Females opting for Economics/Finance is:', round((7/33*100), 2),'%')\n",
    "print('The conditional probability of Females opting for International Business is:', round((4/33*100), 2),'%')\n",
    "print('The conditional probability of Females opting for Management is:', round((4/33*100), 2),'%')\n",
    "print('The conditional probability of Females opting for Other is:', round((3/33*100), 2),'%')\n",
    "print('The conditional probability of Females opting for Retail/Marketing is:',round((9/33*100),2),'%') \n",
    "print('The conditional probability of Females opting for Undecided is:', 0/29,'%')"
   ]
  },
  {
   "cell_type": "markdown",
   "id": "9e4ba602",
   "metadata": {},
   "source": [
    "2.4.1. Find the probability That a randomly chosen student is a male and intends to graduate.\n",
    "\n",
    "2.4.2 Find the probability that a randomly selected student is a female and does NOT have a laptop."
   ]
  },
  {
   "cell_type": "code",
   "execution_count": 83,
   "id": "32e86e3a",
   "metadata": {
    "ExecuteTime": {
     "end_time": "2021-12-05T11:16:17.324605Z",
     "start_time": "2021-12-05T11:16:17.250073Z"
    }
   },
   "outputs": [
    {
     "data": {
      "text/html": [
       "<div>\n",
       "<style scoped>\n",
       "    .dataframe tbody tr th:only-of-type {\n",
       "        vertical-align: middle;\n",
       "    }\n",
       "\n",
       "    .dataframe tbody tr th {\n",
       "        vertical-align: top;\n",
       "    }\n",
       "\n",
       "    .dataframe thead th {\n",
       "        text-align: right;\n",
       "    }\n",
       "</style>\n",
       "<table border=\"1\" class=\"dataframe\">\n",
       "  <thead>\n",
       "    <tr style=\"text-align: right;\">\n",
       "      <th>Grad Intention</th>\n",
       "      <th>No</th>\n",
       "      <th>Undecided</th>\n",
       "      <th>Yes</th>\n",
       "      <th>All</th>\n",
       "    </tr>\n",
       "    <tr>\n",
       "      <th>Gender</th>\n",
       "      <th></th>\n",
       "      <th></th>\n",
       "      <th></th>\n",
       "      <th></th>\n",
       "    </tr>\n",
       "  </thead>\n",
       "  <tbody>\n",
       "    <tr>\n",
       "      <th>Female</th>\n",
       "      <td>9</td>\n",
       "      <td>13</td>\n",
       "      <td>11</td>\n",
       "      <td>33</td>\n",
       "    </tr>\n",
       "    <tr>\n",
       "      <th>Male</th>\n",
       "      <td>3</td>\n",
       "      <td>9</td>\n",
       "      <td>17</td>\n",
       "      <td>29</td>\n",
       "    </tr>\n",
       "    <tr>\n",
       "      <th>All</th>\n",
       "      <td>12</td>\n",
       "      <td>22</td>\n",
       "      <td>28</td>\n",
       "      <td>62</td>\n",
       "    </tr>\n",
       "  </tbody>\n",
       "</table>\n",
       "</div>"
      ],
      "text/plain": [
       "Grad Intention  No  Undecided  Yes  All\n",
       "Gender                                 \n",
       "Female           9         13   11   33\n",
       "Male             3          9   17   29\n",
       "All             12         22   28   62"
      ]
     },
     "execution_count": 83,
     "metadata": {},
     "output_type": "execute_result"
    }
   ],
   "source": [
    "pd.crosstab(mydata['Gender'], mydata['Grad Intention'], margins=True)"
   ]
  },
  {
   "cell_type": "code",
   "execution_count": 84,
   "id": "678bef2e",
   "metadata": {
    "ExecuteTime": {
     "end_time": "2021-12-05T11:16:18.087415Z",
     "start_time": "2021-12-05T11:16:18.076744Z"
    }
   },
   "outputs": [
    {
     "name": "stdout",
     "output_type": "stream",
     "text": [
      "The probabilty of a randomly chosen student is a male and intents to graduate is: 58.62 %\n"
     ]
    }
   ],
   "source": [
    "print('The probabilty of a randomly chosen student is a male and intents to graduate is:', round((17/29*100),2),'%')"
   ]
  },
  {
   "cell_type": "code",
   "execution_count": 85,
   "id": "e4fedb82",
   "metadata": {
    "ExecuteTime": {
     "end_time": "2021-12-05T11:16:18.866082Z",
     "start_time": "2021-12-05T11:16:18.778455Z"
    }
   },
   "outputs": [
    {
     "data": {
      "text/html": [
       "<div>\n",
       "<style scoped>\n",
       "    .dataframe tbody tr th:only-of-type {\n",
       "        vertical-align: middle;\n",
       "    }\n",
       "\n",
       "    .dataframe tbody tr th {\n",
       "        vertical-align: top;\n",
       "    }\n",
       "\n",
       "    .dataframe thead th {\n",
       "        text-align: right;\n",
       "    }\n",
       "</style>\n",
       "<table border=\"1\" class=\"dataframe\">\n",
       "  <thead>\n",
       "    <tr style=\"text-align: right;\">\n",
       "      <th>Computer</th>\n",
       "      <th>Desktop</th>\n",
       "      <th>Laptop</th>\n",
       "      <th>Tablet</th>\n",
       "      <th>All</th>\n",
       "    </tr>\n",
       "    <tr>\n",
       "      <th>Gender</th>\n",
       "      <th></th>\n",
       "      <th></th>\n",
       "      <th></th>\n",
       "      <th></th>\n",
       "    </tr>\n",
       "  </thead>\n",
       "  <tbody>\n",
       "    <tr>\n",
       "      <th>Female</th>\n",
       "      <td>2</td>\n",
       "      <td>29</td>\n",
       "      <td>2</td>\n",
       "      <td>33</td>\n",
       "    </tr>\n",
       "    <tr>\n",
       "      <th>Male</th>\n",
       "      <td>3</td>\n",
       "      <td>26</td>\n",
       "      <td>0</td>\n",
       "      <td>29</td>\n",
       "    </tr>\n",
       "    <tr>\n",
       "      <th>All</th>\n",
       "      <td>5</td>\n",
       "      <td>55</td>\n",
       "      <td>2</td>\n",
       "      <td>62</td>\n",
       "    </tr>\n",
       "  </tbody>\n",
       "</table>\n",
       "</div>"
      ],
      "text/plain": [
       "Computer  Desktop  Laptop  Tablet  All\n",
       "Gender                                \n",
       "Female          2      29       2   33\n",
       "Male            3      26       0   29\n",
       "All             5      55       2   62"
      ]
     },
     "execution_count": 85,
     "metadata": {},
     "output_type": "execute_result"
    }
   ],
   "source": [
    "pd.crosstab(mydata['Gender'], mydata['Computer'], margins=True)"
   ]
  },
  {
   "cell_type": "code",
   "execution_count": 86,
   "id": "e0ed2ef2",
   "metadata": {
    "ExecuteTime": {
     "end_time": "2021-12-05T11:16:19.628605Z",
     "start_time": "2021-12-05T11:16:19.616264Z"
    }
   },
   "outputs": [
    {
     "name": "stdout",
     "output_type": "stream",
     "text": [
      "The probabilty of a randomly chosen student is a female and does not have a laptop is 12.12 %\n"
     ]
    }
   ],
   "source": [
    "print('The probabilty of a randomly chosen student is a female and does not have a laptop is', round((4/33*100),2),'%')"
   ]
  },
  {
   "cell_type": "markdown",
   "id": "fb9cbe8f",
   "metadata": {},
   "source": [
    "2.5.1. Find the probability that a randomly chosen student is a male or has full-time employment?\n",
    "\n",
    "2.5.2. Find the conditional probability that given a female student is randomly chosen, she is majoring in international business or management."
   ]
  },
  {
   "cell_type": "code",
   "execution_count": 87,
   "id": "1abc2f86",
   "metadata": {
    "ExecuteTime": {
     "end_time": "2021-12-05T11:16:21.484761Z",
     "start_time": "2021-12-05T11:16:21.404755Z"
    }
   },
   "outputs": [
    {
     "data": {
      "text/html": [
       "<div>\n",
       "<style scoped>\n",
       "    .dataframe tbody tr th:only-of-type {\n",
       "        vertical-align: middle;\n",
       "    }\n",
       "\n",
       "    .dataframe tbody tr th {\n",
       "        vertical-align: top;\n",
       "    }\n",
       "\n",
       "    .dataframe thead th {\n",
       "        text-align: right;\n",
       "    }\n",
       "</style>\n",
       "<table border=\"1\" class=\"dataframe\">\n",
       "  <thead>\n",
       "    <tr style=\"text-align: right;\">\n",
       "      <th>Employment</th>\n",
       "      <th>Full-Time</th>\n",
       "      <th>Part-Time</th>\n",
       "      <th>Unemployed</th>\n",
       "      <th>All</th>\n",
       "    </tr>\n",
       "    <tr>\n",
       "      <th>Gender</th>\n",
       "      <th></th>\n",
       "      <th></th>\n",
       "      <th></th>\n",
       "      <th></th>\n",
       "    </tr>\n",
       "  </thead>\n",
       "  <tbody>\n",
       "    <tr>\n",
       "      <th>Female</th>\n",
       "      <td>3</td>\n",
       "      <td>24</td>\n",
       "      <td>6</td>\n",
       "      <td>33</td>\n",
       "    </tr>\n",
       "    <tr>\n",
       "      <th>Male</th>\n",
       "      <td>7</td>\n",
       "      <td>19</td>\n",
       "      <td>3</td>\n",
       "      <td>29</td>\n",
       "    </tr>\n",
       "    <tr>\n",
       "      <th>All</th>\n",
       "      <td>10</td>\n",
       "      <td>43</td>\n",
       "      <td>9</td>\n",
       "      <td>62</td>\n",
       "    </tr>\n",
       "  </tbody>\n",
       "</table>\n",
       "</div>"
      ],
      "text/plain": [
       "Employment  Full-Time  Part-Time  Unemployed  All\n",
       "Gender                                           \n",
       "Female              3         24           6   33\n",
       "Male                7         19           3   29\n",
       "All                10         43           9   62"
      ]
     },
     "execution_count": 87,
     "metadata": {},
     "output_type": "execute_result"
    }
   ],
   "source": [
    "pd.crosstab(mydata['Gender'], mydata['Employment'], margins=True)"
   ]
  },
  {
   "cell_type": "code",
   "execution_count": 88,
   "id": "4ed7dd7f",
   "metadata": {
    "ExecuteTime": {
     "end_time": "2021-12-05T11:16:22.657761Z",
     "start_time": "2021-12-05T11:16:22.650696Z"
    }
   },
   "outputs": [],
   "source": [
    "ProbMale=29/62\n",
    "ProbFull=10/62 \n",
    "ProbMaleinFull=7/62"
   ]
  },
  {
   "cell_type": "code",
   "execution_count": 89,
   "id": "813f620a",
   "metadata": {
    "ExecuteTime": {
     "end_time": "2021-12-05T11:16:23.591005Z",
     "start_time": "2021-12-05T11:16:23.583946Z"
    }
   },
   "outputs": [
    {
     "data": {
      "text/plain": [
       "0.5161290322580645"
      ]
     },
     "execution_count": 89,
     "metadata": {},
     "output_type": "execute_result"
    }
   ],
   "source": [
    "P= ProbMale+ProbFull-ProbMaleinFull\n",
    "P"
   ]
  },
  {
   "cell_type": "code",
   "execution_count": 90,
   "id": "f45e5f50",
   "metadata": {
    "ExecuteTime": {
     "end_time": "2021-12-05T11:16:24.268409Z",
     "start_time": "2021-12-05T11:16:24.256832Z"
    }
   },
   "outputs": [
    {
     "name": "stdout",
     "output_type": "stream",
     "text": [
      "The probabilty of a randomly chosen student is a male or has full time employment is 51.61 %\n"
     ]
    }
   ],
   "source": [
    "print('The probabilty of a randomly chosen student is a male or has full time employment is', round((P*100),2),'%')"
   ]
  },
  {
   "cell_type": "code",
   "execution_count": 91,
   "id": "662d7c8a",
   "metadata": {
    "ExecuteTime": {
     "end_time": "2021-12-05T11:16:25.087327Z",
     "start_time": "2021-12-05T11:16:24.994153Z"
    }
   },
   "outputs": [
    {
     "data": {
      "text/html": [
       "<div>\n",
       "<style scoped>\n",
       "    .dataframe tbody tr th:only-of-type {\n",
       "        vertical-align: middle;\n",
       "    }\n",
       "\n",
       "    .dataframe tbody tr th {\n",
       "        vertical-align: top;\n",
       "    }\n",
       "\n",
       "    .dataframe thead th {\n",
       "        text-align: right;\n",
       "    }\n",
       "</style>\n",
       "<table border=\"1\" class=\"dataframe\">\n",
       "  <thead>\n",
       "    <tr style=\"text-align: right;\">\n",
       "      <th>Major</th>\n",
       "      <th>Accounting</th>\n",
       "      <th>CIS</th>\n",
       "      <th>Economics/Finance</th>\n",
       "      <th>International Business</th>\n",
       "      <th>Management</th>\n",
       "      <th>Other</th>\n",
       "      <th>Retailing/Marketing</th>\n",
       "      <th>Undecided</th>\n",
       "      <th>All</th>\n",
       "    </tr>\n",
       "    <tr>\n",
       "      <th>Gender</th>\n",
       "      <th></th>\n",
       "      <th></th>\n",
       "      <th></th>\n",
       "      <th></th>\n",
       "      <th></th>\n",
       "      <th></th>\n",
       "      <th></th>\n",
       "      <th></th>\n",
       "      <th></th>\n",
       "    </tr>\n",
       "  </thead>\n",
       "  <tbody>\n",
       "    <tr>\n",
       "      <th>Female</th>\n",
       "      <td>3</td>\n",
       "      <td>3</td>\n",
       "      <td>7</td>\n",
       "      <td>4</td>\n",
       "      <td>4</td>\n",
       "      <td>3</td>\n",
       "      <td>9</td>\n",
       "      <td>0</td>\n",
       "      <td>33</td>\n",
       "    </tr>\n",
       "    <tr>\n",
       "      <th>Male</th>\n",
       "      <td>4</td>\n",
       "      <td>1</td>\n",
       "      <td>4</td>\n",
       "      <td>2</td>\n",
       "      <td>6</td>\n",
       "      <td>4</td>\n",
       "      <td>5</td>\n",
       "      <td>3</td>\n",
       "      <td>29</td>\n",
       "    </tr>\n",
       "    <tr>\n",
       "      <th>All</th>\n",
       "      <td>7</td>\n",
       "      <td>4</td>\n",
       "      <td>11</td>\n",
       "      <td>6</td>\n",
       "      <td>10</td>\n",
       "      <td>7</td>\n",
       "      <td>14</td>\n",
       "      <td>3</td>\n",
       "      <td>62</td>\n",
       "    </tr>\n",
       "  </tbody>\n",
       "</table>\n",
       "</div>"
      ],
      "text/plain": [
       "Major   Accounting  CIS  Economics/Finance  International Business  \\\n",
       "Gender                                                               \n",
       "Female           3    3                  7                       4   \n",
       "Male             4    1                  4                       2   \n",
       "All              7    4                 11                       6   \n",
       "\n",
       "Major   Management  Other  Retailing/Marketing  Undecided  All  \n",
       "Gender                                                          \n",
       "Female           4      3                    9          0   33  \n",
       "Male             6      4                    5          3   29  \n",
       "All             10      7                   14          3   62  "
      ]
     },
     "execution_count": 91,
     "metadata": {},
     "output_type": "execute_result"
    }
   ],
   "source": [
    "pd.crosstab(mydata['Gender'], mydata['Major'], margins=True)"
   ]
  },
  {
   "cell_type": "markdown",
   "id": "43ba6e85",
   "metadata": {},
   "source": [
    "Probability of female student in international business= 4/33\n",
    "probability of female student in Management =4/33\n",
    "\n",
    "i.e. P(Fem IB or Fem Manag)= P(Fem IB)+ P(Fem Management) since the events are independent"
   ]
  },
  {
   "cell_type": "code",
   "execution_count": 92,
   "id": "e24c6810",
   "metadata": {
    "ExecuteTime": {
     "end_time": "2021-12-05T11:16:27.218167Z",
     "start_time": "2021-12-05T11:16:27.207542Z"
    }
   },
   "outputs": [
    {
     "name": "stdout",
     "output_type": "stream",
     "text": [
      "The probability of a female student majoring in IB or Management is 24.24 %\n"
     ]
    }
   ],
   "source": [
    "print('The probability of a female student majoring in IB or Management is', round(((4/33)+(4/33))*100, 2), '%')"
   ]
  },
  {
   "cell_type": "code",
   "execution_count": 93,
   "id": "e78fc085",
   "metadata": {
    "ExecuteTime": {
     "end_time": "2021-12-05T11:16:28.152349Z",
     "start_time": "2021-12-05T11:16:28.113086Z"
    }
   },
   "outputs": [
    {
     "data": {
      "text/html": [
       "<div>\n",
       "<style scoped>\n",
       "    .dataframe tbody tr th:only-of-type {\n",
       "        vertical-align: middle;\n",
       "    }\n",
       "\n",
       "    .dataframe tbody tr th {\n",
       "        vertical-align: top;\n",
       "    }\n",
       "\n",
       "    .dataframe thead th {\n",
       "        text-align: right;\n",
       "    }\n",
       "</style>\n",
       "<table border=\"1\" class=\"dataframe\">\n",
       "  <thead>\n",
       "    <tr style=\"text-align: right;\">\n",
       "      <th>Grad Intention</th>\n",
       "      <th>No</th>\n",
       "      <th>Yes</th>\n",
       "    </tr>\n",
       "    <tr>\n",
       "      <th>Gender</th>\n",
       "      <th></th>\n",
       "      <th></th>\n",
       "    </tr>\n",
       "  </thead>\n",
       "  <tbody>\n",
       "    <tr>\n",
       "      <th>Female</th>\n",
       "      <td>9</td>\n",
       "      <td>11</td>\n",
       "    </tr>\n",
       "    <tr>\n",
       "      <th>Male</th>\n",
       "      <td>3</td>\n",
       "      <td>17</td>\n",
       "    </tr>\n",
       "  </tbody>\n",
       "</table>\n",
       "</div>"
      ],
      "text/plain": [
       "Grad Intention  No  Yes\n",
       "Gender                 \n",
       "Female           9   11\n",
       "Male             3   17"
      ]
     },
     "execution_count": 93,
     "metadata": {},
     "output_type": "execute_result"
    }
   ],
   "source": [
    "pd.crosstab(mydata['Gender'], mydata['Grad Intention']).drop(labels='Undecided', axis=1)"
   ]
  },
  {
   "cell_type": "markdown",
   "id": "ee8a3601",
   "metadata": {},
   "source": [
    "to check if the events are independent \n",
    "P(A in B)= P(A)XP(B)\n",
    "\n",
    "so, P(A)= GradYes\n",
    "    P(B)= Female"
   ]
  },
  {
   "cell_type": "code",
   "execution_count": 121,
   "id": "8ee6b56f",
   "metadata": {
    "ExecuteTime": {
     "end_time": "2021-12-06T07:31:41.023468Z",
     "start_time": "2021-12-06T07:31:41.015468Z"
    }
   },
   "outputs": [],
   "source": [
    "PofA= 28/40\n",
    "PofAgivenB=11/20\n",
    "PoB=20/30"
   ]
  },
  {
   "cell_type": "code",
   "execution_count": 124,
   "id": "707e9f3a",
   "metadata": {
    "ExecuteTime": {
     "end_time": "2021-12-06T07:34:41.594115Z",
     "start_time": "2021-12-06T07:34:41.581112Z"
    }
   },
   "outputs": [
    {
     "data": {
      "text/plain": [
       "0.7"
      ]
     },
     "execution_count": 124,
     "metadata": {},
     "output_type": "execute_result"
    }
   ],
   "source": [
    "PofA"
   ]
  },
  {
   "cell_type": "code",
   "execution_count": 208,
   "id": "c8adf164",
   "metadata": {
    "ExecuteTime": {
     "end_time": "2021-11-30T18:03:30.363148Z",
     "start_time": "2021-11-30T18:03:30.356148Z"
    }
   },
   "outputs": [
    {
     "data": {
      "text/plain": [
       "0.7"
      ]
     },
     "execution_count": 208,
     "metadata": {},
     "output_type": "execute_result"
    }
   ],
   "source": [
    "PofA*PoB/PoB"
   ]
  },
  {
   "cell_type": "code",
   "execution_count": 207,
   "id": "9b227040",
   "metadata": {
    "ExecuteTime": {
     "end_time": "2021-11-30T18:02:28.008805Z",
     "start_time": "2021-11-30T18:02:27.999803Z"
    }
   },
   "outputs": [
    {
     "data": {
      "text/plain": [
       "0.55"
      ]
     },
     "execution_count": 207,
     "metadata": {},
     "output_type": "execute_result"
    }
   ],
   "source": [
    "PofAgivenB"
   ]
  },
  {
   "cell_type": "code",
   "execution_count": 201,
   "id": "ac303a21",
   "metadata": {
    "ExecuteTime": {
     "end_time": "2021-11-30T17:58:18.594446Z",
     "start_time": "2021-11-30T17:58:18.578446Z"
    }
   },
   "outputs": [
    {
     "name": "stdout",
     "output_type": "stream",
     "text": [
      "Being female is not independent on Grad Intention\n"
     ]
    }
   ],
   "source": [
    "if PofAgivenB == PofA:\n",
    "    print('Being female is independent on Grad Intention')\n",
    "else:\n",
    "    print('Being female is not independent on Grad Intention')\n",
    "    "
   ]
  },
  {
   "cell_type": "code",
   "execution_count": 192,
   "id": "98114737",
   "metadata": {
    "ExecuteTime": {
     "end_time": "2021-11-30T16:54:56.649520Z",
     "start_time": "2021-11-30T16:54:56.637515Z"
    }
   },
   "outputs": [
    {
     "data": {
      "text/plain": [
       "0.55"
      ]
     },
     "execution_count": 192,
     "metadata": {},
     "output_type": "execute_result"
    }
   ],
   "source": [
    "P_A_B"
   ]
  },
  {
   "cell_type": "markdown",
   "id": "1d16f8f1",
   "metadata": {},
   "source": [
    "2.7. Note that there are four numerical (continuous) variables in the data set, GPA, Salary, Spending, and Text Messages.\n",
    "\n",
    "Answer the following questions based on the data\n",
    "\n",
    "2.7.1. If a student is chosen randomly, what is the probability that his/her GPA is less than 3?\n",
    "\n",
    "2.7.2. Find the conditional probability that a randomly selected male earns 50 or more. Find the conditional probability that a randomly selected female earns 50 or more.\n",
    "\n",
    "2.8. Note that there are four numerical (continuous) variables in the data set, GPA, Salary, Spending, and Text Messages. For each of them comment whether they follow a normal distribution. Write a note summarizing your conclusions."
   ]
  },
  {
   "cell_type": "code",
   "execution_count": 290,
   "id": "c1157cc2",
   "metadata": {
    "ExecuteTime": {
     "end_time": "2021-12-01T17:24:32.348807Z",
     "start_time": "2021-12-01T17:24:32.220289Z"
    }
   },
   "outputs": [
    {
     "data": {
      "text/html": [
       "<div>\n",
       "<style scoped>\n",
       "    .dataframe tbody tr th:only-of-type {\n",
       "        vertical-align: middle;\n",
       "    }\n",
       "\n",
       "    .dataframe tbody tr th {\n",
       "        vertical-align: top;\n",
       "    }\n",
       "\n",
       "    .dataframe thead th {\n",
       "        text-align: right;\n",
       "    }\n",
       "</style>\n",
       "<table border=\"1\" class=\"dataframe\">\n",
       "  <thead>\n",
       "    <tr style=\"text-align: right;\">\n",
       "      <th>GPA</th>\n",
       "      <th>2.3</th>\n",
       "      <th>2.4</th>\n",
       "      <th>2.5</th>\n",
       "      <th>2.6</th>\n",
       "      <th>2.8</th>\n",
       "      <th>2.9</th>\n",
       "      <th>3.0</th>\n",
       "      <th>3.1</th>\n",
       "      <th>3.2</th>\n",
       "      <th>3.3</th>\n",
       "      <th>3.4</th>\n",
       "      <th>3.5</th>\n",
       "      <th>3.6</th>\n",
       "      <th>3.7</th>\n",
       "      <th>3.8</th>\n",
       "      <th>3.9</th>\n",
       "      <th>All</th>\n",
       "    </tr>\n",
       "    <tr>\n",
       "      <th>Gender</th>\n",
       "      <th></th>\n",
       "      <th></th>\n",
       "      <th></th>\n",
       "      <th></th>\n",
       "      <th></th>\n",
       "      <th></th>\n",
       "      <th></th>\n",
       "      <th></th>\n",
       "      <th></th>\n",
       "      <th></th>\n",
       "      <th></th>\n",
       "      <th></th>\n",
       "      <th></th>\n",
       "      <th></th>\n",
       "      <th></th>\n",
       "      <th></th>\n",
       "      <th></th>\n",
       "    </tr>\n",
       "  </thead>\n",
       "  <tbody>\n",
       "    <tr>\n",
       "      <th>Female</th>\n",
       "      <td>1</td>\n",
       "      <td>1</td>\n",
       "      <td>2</td>\n",
       "      <td>0</td>\n",
       "      <td>1</td>\n",
       "      <td>3</td>\n",
       "      <td>5</td>\n",
       "      <td>2</td>\n",
       "      <td>4</td>\n",
       "      <td>3</td>\n",
       "      <td>2</td>\n",
       "      <td>4</td>\n",
       "      <td>1</td>\n",
       "      <td>2</td>\n",
       "      <td>1</td>\n",
       "      <td>1</td>\n",
       "      <td>33</td>\n",
       "    </tr>\n",
       "    <tr>\n",
       "      <th>Male</th>\n",
       "      <td>0</td>\n",
       "      <td>0</td>\n",
       "      <td>4</td>\n",
       "      <td>2</td>\n",
       "      <td>2</td>\n",
       "      <td>1</td>\n",
       "      <td>2</td>\n",
       "      <td>5</td>\n",
       "      <td>2</td>\n",
       "      <td>2</td>\n",
       "      <td>5</td>\n",
       "      <td>2</td>\n",
       "      <td>2</td>\n",
       "      <td>0</td>\n",
       "      <td>0</td>\n",
       "      <td>0</td>\n",
       "      <td>29</td>\n",
       "    </tr>\n",
       "    <tr>\n",
       "      <th>All</th>\n",
       "      <td>1</td>\n",
       "      <td>1</td>\n",
       "      <td>6</td>\n",
       "      <td>2</td>\n",
       "      <td>3</td>\n",
       "      <td>4</td>\n",
       "      <td>7</td>\n",
       "      <td>7</td>\n",
       "      <td>6</td>\n",
       "      <td>5</td>\n",
       "      <td>7</td>\n",
       "      <td>6</td>\n",
       "      <td>3</td>\n",
       "      <td>2</td>\n",
       "      <td>1</td>\n",
       "      <td>1</td>\n",
       "      <td>62</td>\n",
       "    </tr>\n",
       "  </tbody>\n",
       "</table>\n",
       "</div>"
      ],
      "text/plain": [
       "GPA     2.3  2.4  2.5  2.6  2.8  2.9  3.0  3.1  3.2  3.3  3.4  3.5  3.6  3.7  \\\n",
       "Gender                                                                         \n",
       "Female    1    1    2    0    1    3    5    2    4    3    2    4    1    2   \n",
       "Male      0    0    4    2    2    1    2    5    2    2    5    2    2    0   \n",
       "All       1    1    6    2    3    4    7    7    6    5    7    6    3    2   \n",
       "\n",
       "GPA     3.8  3.9  All  \n",
       "Gender                 \n",
       "Female    1    1   33  \n",
       "Male      0    0   29  \n",
       "All       1    1   62  "
      ]
     },
     "execution_count": 290,
     "metadata": {},
     "output_type": "execute_result"
    }
   ],
   "source": [
    "pd.crosstab(mydata['Gender'], mydata['GPA'], margins=True)"
   ]
  },
  {
   "cell_type": "code",
   "execution_count": 215,
   "id": "f111fc60",
   "metadata": {
    "ExecuteTime": {
     "end_time": "2021-12-01T13:53:02.762667Z",
     "start_time": "2021-12-01T13:53:02.750666Z"
    }
   },
   "outputs": [
    {
     "name": "stdout",
     "output_type": "stream",
     "text": [
      "The probability of a randomly selected student has their GPA less than 3 is 27.42 %\n"
     ]
    }
   ],
   "source": [
    "print('The probability of a randomly selected student has their GPA less than 3 is', round((17/62)*100,2),'%')"
   ]
  },
  {
   "cell_type": "code",
   "execution_count": 216,
   "id": "ff3c6068",
   "metadata": {
    "ExecuteTime": {
     "end_time": "2021-12-01T13:54:04.727255Z",
     "start_time": "2021-12-01T13:54:04.684351Z"
    }
   },
   "outputs": [
    {
     "data": {
      "text/html": [
       "<div>\n",
       "<style scoped>\n",
       "    .dataframe tbody tr th:only-of-type {\n",
       "        vertical-align: middle;\n",
       "    }\n",
       "\n",
       "    .dataframe tbody tr th {\n",
       "        vertical-align: top;\n",
       "    }\n",
       "\n",
       "    .dataframe thead th {\n",
       "        text-align: right;\n",
       "    }\n",
       "</style>\n",
       "<table border=\"1\" class=\"dataframe\">\n",
       "  <thead>\n",
       "    <tr style=\"text-align: right;\">\n",
       "      <th>Salary</th>\n",
       "      <th>25.00</th>\n",
       "      <th>30.00</th>\n",
       "      <th>35.00</th>\n",
       "      <th>37.00</th>\n",
       "      <th>37.50</th>\n",
       "      <th>40.00</th>\n",
       "      <th>42.00</th>\n",
       "      <th>45.00</th>\n",
       "      <th>47.00</th>\n",
       "      <th>47.50</th>\n",
       "      <th>50.00</th>\n",
       "      <th>52.00</th>\n",
       "      <th>54.00</th>\n",
       "      <th>55.00</th>\n",
       "      <th>60.00</th>\n",
       "      <th>65.00</th>\n",
       "      <th>70.00</th>\n",
       "      <th>78.00</th>\n",
       "      <th>80.00</th>\n",
       "    </tr>\n",
       "    <tr>\n",
       "      <th>Gender</th>\n",
       "      <th></th>\n",
       "      <th></th>\n",
       "      <th></th>\n",
       "      <th></th>\n",
       "      <th></th>\n",
       "      <th></th>\n",
       "      <th></th>\n",
       "      <th></th>\n",
       "      <th></th>\n",
       "      <th></th>\n",
       "      <th></th>\n",
       "      <th></th>\n",
       "      <th></th>\n",
       "      <th></th>\n",
       "      <th></th>\n",
       "      <th></th>\n",
       "      <th></th>\n",
       "      <th></th>\n",
       "      <th></th>\n",
       "    </tr>\n",
       "  </thead>\n",
       "  <tbody>\n",
       "    <tr>\n",
       "      <th>Female</th>\n",
       "      <td>0</td>\n",
       "      <td>5</td>\n",
       "      <td>1</td>\n",
       "      <td>0</td>\n",
       "      <td>1</td>\n",
       "      <td>5</td>\n",
       "      <td>1</td>\n",
       "      <td>1</td>\n",
       "      <td>0</td>\n",
       "      <td>1</td>\n",
       "      <td>5</td>\n",
       "      <td>0</td>\n",
       "      <td>0</td>\n",
       "      <td>5</td>\n",
       "      <td>5</td>\n",
       "      <td>0</td>\n",
       "      <td>1</td>\n",
       "      <td>1</td>\n",
       "      <td>1</td>\n",
       "    </tr>\n",
       "    <tr>\n",
       "      <th>Male</th>\n",
       "      <td>1</td>\n",
       "      <td>0</td>\n",
       "      <td>1</td>\n",
       "      <td>1</td>\n",
       "      <td>0</td>\n",
       "      <td>7</td>\n",
       "      <td>0</td>\n",
       "      <td>4</td>\n",
       "      <td>1</td>\n",
       "      <td>0</td>\n",
       "      <td>4</td>\n",
       "      <td>1</td>\n",
       "      <td>1</td>\n",
       "      <td>3</td>\n",
       "      <td>3</td>\n",
       "      <td>1</td>\n",
       "      <td>0</td>\n",
       "      <td>0</td>\n",
       "      <td>1</td>\n",
       "    </tr>\n",
       "  </tbody>\n",
       "</table>\n",
       "</div>"
      ],
      "text/plain": [
       "Salary  25.00  30.00  35.00  37.00  37.50  40.00  42.00  45.00  47.00  47.50  \\\n",
       "Gender                                                                         \n",
       "Female      0      5      1      0      1      5      1      1      0      1   \n",
       "Male        1      0      1      1      0      7      0      4      1      0   \n",
       "\n",
       "Salary  50.00  52.00  54.00  55.00  60.00  65.00  70.00  78.00  80.00  \n",
       "Gender                                                                 \n",
       "Female      5      0      0      5      5      0      1      1      1  \n",
       "Male        4      1      1      3      3      1      0      0      1  "
      ]
     },
     "execution_count": 216,
     "metadata": {},
     "output_type": "execute_result"
    }
   ],
   "source": [
    "pd.crosstab(mydata['Gender'], mydata['Salary'])"
   ]
  },
  {
   "cell_type": "code",
   "execution_count": 219,
   "id": "cea9667f",
   "metadata": {
    "ExecuteTime": {
     "end_time": "2021-12-01T13:57:11.550405Z",
     "start_time": "2021-12-01T13:57:11.531198Z"
    }
   },
   "outputs": [
    {
     "name": "stdout",
     "output_type": "stream",
     "text": [
      "The conditional probability of a randomly selcted male earning salary 50 or more is 48.28 %\n"
     ]
    }
   ],
   "source": [
    "print('The conditional probability of a randomly selcted male earning salary 50 or more is', round((14/29)*100,2),'%')"
   ]
  },
  {
   "cell_type": "code",
   "execution_count": 220,
   "id": "f4e3ca14",
   "metadata": {
    "ExecuteTime": {
     "end_time": "2021-12-01T13:58:07.755523Z",
     "start_time": "2021-12-01T13:58:07.746523Z"
    }
   },
   "outputs": [
    {
     "name": "stdout",
     "output_type": "stream",
     "text": [
      "The conditional probability of a randomly selcted female earning salary 50 or more is 54.55 %\n"
     ]
    }
   ],
   "source": [
    "print('The conditional probability of a randomly selcted female earning salary 50 or more is', round((18/33)*100,2),'%')"
   ]
  },
  {
   "cell_type": "code",
   "execution_count": 126,
   "id": "675b3f52",
   "metadata": {
    "ExecuteTime": {
     "end_time": "2021-12-06T07:50:48.333070Z",
     "start_time": "2021-12-06T07:50:48.086722Z"
    },
    "scrolled": true
   },
   "outputs": [
    {
     "data": {
      "image/png": "[encoded data removed]",
      "text/plain": [
       "<Figure size 720x360 with 1 Axes>"
      ]
     },
     "metadata": {
      "needs_background": "light"
     },
     "output_type": "display_data"
    }
   ],
   "source": [
    "plt.figure(figsize=(10,5))\n",
    "#sns.displot(mydata['GPA'], kind='kde', color='red')\n",
    "mydata['GPA'].plot(kind='density')\n",
    "plt.xlabel('Student GPA Scores')\n",
    "plt.title('Distribution plot of GPA', loc='right')\n",
    "plt.show()"
   ]
  },
  {
   "cell_type": "code",
   "execution_count": 97,
   "id": "3f368f65",
   "metadata": {
    "ExecuteTime": {
     "end_time": "2021-12-05T11:19:06.330109Z",
     "start_time": "2021-12-05T11:19:05.853092Z"
    }
   },
   "outputs": [
    {
     "data": {
      "image/png": "[encoded data removed]",
      "text/plain": [
       "<Figure size 720x432 with 1 Axes>"
      ]
     },
     "metadata": {
      "needs_background": "light"
     },
     "output_type": "display_data"
    }
   ],
   "source": [
    "plt.figure(figsize=(10,6))\n",
    "#sns.displot(mydata['Salary'], kind='kde')\n",
    "mydata['Salary'].plot(kind='density')\n",
    "plt.xlabel('Salary of Students in Dollars')\n",
    "plt.title('Distribution plot of Salary', loc='right')\n",
    "plt.show()"
   ]
  },
  {
   "cell_type": "code",
   "execution_count": 98,
   "id": "01335ad1",
   "metadata": {
    "ExecuteTime": {
     "end_time": "2021-12-05T11:20:17.744568Z",
     "start_time": "2021-12-05T11:20:17.322356Z"
    }
   },
   "outputs": [
    {
     "data": {
      "image/png": "[encoded data removed]",
      "text/plain": [
       "<Figure size 720x432 with 1 Axes>"
      ]
     },
     "metadata": {
      "needs_background": "light"
     },
     "output_type": "display_data"
    }
   ],
   "source": [
    "plt.figure(figsize=(10,6))\n",
    "mydata['Spending'].plot(kind='density')\n",
    "plt.xlabel('Spending in Dollars')\n",
    "plt.title('Distribution plot of Spending', loc='right')\n",
    "plt.show()"
   ]
  },
  {
   "cell_type": "code",
   "execution_count": 100,
   "id": "fd5411eb",
   "metadata": {
    "ExecuteTime": {
     "end_time": "2021-12-05T11:21:50.145221Z",
     "start_time": "2021-12-05T11:21:49.737700Z"
    }
   },
   "outputs": [
    {
     "data": {
      "image/png": "[encoded data removed]",
      "text/plain": [
       "<Figure size 720x432 with 1 Axes>"
      ]
     },
     "metadata": {
      "needs_background": "light"
     },
     "output_type": "display_data"
    }
   ],
   "source": [
    "plt.figure(figsize=(10,6))\n",
    "mydata['Text Messages'].plot(kind='density')\n",
    "plt.xlabel('Text Messages')\n",
    "plt.title('Distribution plot of Text Messages', loc='right')\n",
    "plt.show()"
   ]
  },
  {
   "cell_type": "markdown",
   "id": "358d1e42",
   "metadata": {},
   "source": [
    "h0= data is normally distributed\n",
    "h1= data is not normally distributed\n",
    "significance level=0.05\n"
   ]
  },
  {
   "cell_type": "code",
   "execution_count": 289,
   "id": "086a0f61",
   "metadata": {
    "ExecuteTime": {
     "end_time": "2021-12-01T17:11:53.146245Z",
     "start_time": "2021-12-01T17:11:53.125242Z"
    }
   },
   "outputs": [
    {
     "name": "stdout",
     "output_type": "stream",
     "text": [
      "The test statistic for GPA from Shapiro test is: 0.9685361981391907\n",
      "The corresponding p-Value is found to be: 0.11204058676958084\n",
      "\n",
      "The test statistic for Salary from Shapiro test is: 0.9565856456756592\n",
      "The corresponding p-Value is found to be: 0.028000956401228905\n",
      "\n",
      "The test statistic for Spendings from Shapiro test is: 0.8777452111244202\n",
      "The corresponding p-Value is found to be: 1.6854661225806922e-05\n",
      "\n",
      "The test statistic for Text Messages from Shapiro test is: 0.8594191074371338\n",
      "The corresponding p-Value is found to be: 4.324040673964191e-06\n",
      "\n",
      "We have evidence to prove that GPA is normally distributed at 95% confidence level. Hence, We accept the null hypthesis.\n",
      "We do not have enough evidence to prove that Salary follows a normal distribution. Hence we reject the null hypothesis.\n",
      "We do not have enough evidence to prove Text Messages follows a normal distribution. Hence we reject the null hypothesis.\n",
      "We do not have enough evidence to prove Spendings follows a normal distribution. Hence we reject the null hypothesis.\n"
     ]
    }
   ],
   "source": [
    "P=0.05\n",
    "GPA=stats.shapiro(mydata['GPA'])\n",
    "Salary=stats.shapiro(mydata['Salary'])\n",
    "Text=stats.shapiro(mydata['Text Messages'])\n",
    "Spending=stats.shapiro(mydata['Spending'])\n",
    "print('The test statistic for GPA from Shapiro test is:',GPA[0])\n",
    "print('The corresponding p-Value is found to be:', GPA[1])\n",
    "print('')\n",
    "print('The test statistic for Salary from Shapiro test is:',Salary[0])\n",
    "print('The corresponding p-Value is found to be:', Salary[1])\n",
    "print('')\n",
    "print('The test statistic for Spendings from Shapiro test is:',Spending[0])\n",
    "print('The corresponding p-Value is found to be:', Spending[1])\n",
    "print('')\n",
    "print('The test statistic for Text Messages from Shapiro test is:',Text[0])\n",
    "print('The corresponding p-Value is found to be:', Text[1])\n",
    "print('')\n",
    "if GPA[1]<p:\n",
    "    print('We do not have enough evidence to prove that GPA follows a normal distribution. Hence we reject the null hypothesis.')\n",
    "else:\n",
    "    print('We have evidence to prove that GPA is normally distributed at 95% confidence level. Hence, We accept the null hypthesis.')\n",
    "\n",
    "if Salary[1]<p:\n",
    "    print('We do not have enough evidence to prove that Salary follows a normal distribution. Hence we reject the null hypothesis.')\n",
    "else:\n",
    "    print('We have evidence to prove that Salary is normally distributed at 95% confidence level. Hence, We accept the null hypthesis.')\n",
    "\n",
    "if Text[1]<p:\n",
    "    print('We do not have enough evidence to prove Text Messages follows a normal distribution. Hence we reject the null hypothesis.')\n",
    "else:\n",
    "    print('We have evidence to prove that Text Messages is normally distributed at 95% confidence level. Hence, We accept the null hypthesis.')\n",
    "    \n",
    "if Spending[1]<p:\n",
    "    print('We do not have enough evidence to prove Spendings follows a normal distribution. Hence we reject the null hypothesis.')\n",
    "else:\n",
    "    print('We have evidence to prove that Spendings is normally distributed at 95% confidence level. Hence, We accept the null hypthesis.')"
   ]
  },
  {
   "cell_type": "code",
   "execution_count": 127,
   "id": "8f82bed6",
   "metadata": {
    "ExecuteTime": {
     "end_time": "2021-12-06T08:07:54.512448Z",
     "start_time": "2021-12-06T08:07:54.468444Z"
    }
   },
   "outputs": [
    {
     "data": {
      "text/html": [
       "<div>\n",
       "<style scoped>\n",
       "    .dataframe tbody tr th:only-of-type {\n",
       "        vertical-align: middle;\n",
       "    }\n",
       "\n",
       "    .dataframe tbody tr th {\n",
       "        vertical-align: top;\n",
       "    }\n",
       "\n",
       "    .dataframe thead th {\n",
       "        text-align: right;\n",
       "    }\n",
       "</style>\n",
       "<table border=\"1\" class=\"dataframe\">\n",
       "  <thead>\n",
       "    <tr style=\"text-align: right;\">\n",
       "      <th></th>\n",
       "      <th>A</th>\n",
       "      <th>B</th>\n",
       "    </tr>\n",
       "  </thead>\n",
       "  <tbody>\n",
       "    <tr>\n",
       "      <th>0</th>\n",
       "      <td>0.44</td>\n",
       "      <td>0.14</td>\n",
       "    </tr>\n",
       "    <tr>\n",
       "      <th>1</th>\n",
       "      <td>0.61</td>\n",
       "      <td>0.15</td>\n",
       "    </tr>\n",
       "    <tr>\n",
       "      <th>2</th>\n",
       "      <td>0.47</td>\n",
       "      <td>0.31</td>\n",
       "    </tr>\n",
       "    <tr>\n",
       "      <th>3</th>\n",
       "      <td>0.30</td>\n",
       "      <td>0.16</td>\n",
       "    </tr>\n",
       "    <tr>\n",
       "      <th>4</th>\n",
       "      <td>0.15</td>\n",
       "      <td>0.37</td>\n",
       "    </tr>\n",
       "  </tbody>\n",
       "</table>\n",
       "</div>"
      ],
      "text/plain": [
       "     A    B\n",
       "0 0.44 0.14\n",
       "1 0.61 0.15\n",
       "2 0.47 0.31\n",
       "3 0.30 0.16\n",
       "4 0.15 0.37"
      ]
     },
     "execution_count": 127,
     "metadata": {},
     "output_type": "execute_result"
    }
   ],
   "source": [
    "shingles = pd.read_csv('A+&+B+shingles.csv')\n",
    "shingles.head()"
   ]
  },
  {
   "cell_type": "markdown",
   "id": "a96d284d",
   "metadata": {},
   "source": [
    "3.1 Do you think there is evidence that means moisture contents in both types of shingles are within the permissible limits? State your conclusions clearly showing all steps.\n",
    "\n",
    "3.2 Do you think that the population mean for shingles A and B are equal? Form the hypothesis and conduct the test of the hypothesis. What assumption do you need to check before the test for equality of means is performed?"
   ]
  },
  {
   "cell_type": "markdown",
   "id": "f4696a91",
   "metadata": {
    "ExecuteTime": {
     "end_time": "2021-12-05T10:07:09.145611Z",
     "start_time": "2021-12-05T10:07:09.129614Z"
    }
   },
   "source": [
    "Ho= Mean moisture content is 0.35\n",
    "Ha= Mean moisture content is less than 0.35"
   ]
  },
  {
   "cell_type": "code",
   "execution_count": 129,
   "id": "86ab4289",
   "metadata": {
    "ExecuteTime": {
     "end_time": "2021-12-06T08:21:14.844452Z",
     "start_time": "2021-12-06T08:21:14.832453Z"
    }
   },
   "outputs": [
    {
     "data": {
      "text/plain": [
       "Ttest_1sampResult(statistic=-1.4735046253382782, pvalue=0.14955266289815025)"
      ]
     },
     "execution_count": 129,
     "metadata": {},
     "output_type": "execute_result"
    }
   ],
   "source": [
    "Test_result = ttest_1samp(shingles['A'], popmean=0.35 )\n",
    "Test_result"
   ]
  },
  {
   "cell_type": "code",
   "execution_count": 19,
   "id": "2396aade",
   "metadata": {
    "ExecuteTime": {
     "end_time": "2021-12-05T10:27:45.226813Z",
     "start_time": "2021-12-05T10:27:45.210768Z"
    }
   },
   "outputs": [
    {
     "name": "stdout",
     "output_type": "stream",
     "text": [
      "There is not enough evidence to conclude that the mean moisture of sample A shingles is less than 0.35 pounds per 100 square feet. Hence We cannot reject the null hypothesis. P-Value: 0.14955266289815025\n"
     ]
    }
   ],
   "source": [
    "if Test_result[1] > 0.05:\n",
    "    print('There is not enough evidence to conclude that the mean moisture of sample A shingles is less than 0.35 pounds per 100 square feet. Hence We cannot reject the null hypothesis. P-Value:',Test_result[1])\n",
    "else:\n",
    "    print('There is conclusive envidence that the mean moisture of sample A shingles is less than 0.35 pounds per 100 square feet. Hence we Reject the null hypothesis.')"
   ]
  },
  {
   "cell_type": "code",
   "execution_count": 25,
   "id": "e8fea18f",
   "metadata": {
    "ExecuteTime": {
     "end_time": "2021-12-05T10:29:52.174039Z",
     "start_time": "2021-12-05T10:29:52.158027Z"
    }
   },
   "outputs": [
    {
     "data": {
      "text/plain": [
       "Ttest_1sampResult(statistic=-3.1003313069986995, pvalue=0.004180954800638365)"
      ]
     },
     "execution_count": 25,
     "metadata": {},
     "output_type": "execute_result"
    }
   ],
   "source": [
    "Test_result2 = ttest_1samp(shingles['B'], popmean=0.35, nan_policy='omit')\n",
    "Test_result2"
   ]
  },
  {
   "cell_type": "code",
   "execution_count": 131,
   "id": "cf6d0a66",
   "metadata": {
    "ExecuteTime": {
     "end_time": "2021-12-06T08:26:11.125194Z",
     "start_time": "2021-12-06T08:26:11.105194Z"
    }
   },
   "outputs": [
    {
     "name": "stdout",
     "output_type": "stream",
     "text": [
      "There is conclusive envidence that the mean moisture of sample B shingles is not equal to 0.35 pounds per 100 square feet. Hence we Reject the null hypothesis. P-Value: 0.004180954800638365\n"
     ]
    }
   ],
   "source": [
    "if Test_result2[1] > 0.05:\n",
    "    print('There is not enough evidence to conclude that the mean moisture of sample B shingles is less than 0.35 pounds per 100 square feet. Hence We cannot reject the null hypothesis. P-Value:',Test_result2[1])\n",
    "else:\n",
    "    print('There is conclusive envidence that the mean moisture of sample B shingles is not equal to 0.35 pounds per 100 square feet. Hence we Reject the null hypothesis. P-Value:', Test_result2[1])"
   ]
  },
  {
   "cell_type": "code",
   "execution_count": 27,
   "id": "42c270f1",
   "metadata": {
    "ExecuteTime": {
     "end_time": "2021-12-05T10:37:19.782342Z",
     "start_time": "2021-12-05T10:37:19.766195Z"
    }
   },
   "outputs": [
    {
     "data": {
      "text/plain": [
       "ShapiroResult(statistic=0.9375598430633545, pvalue=0.042670514434576035)"
      ]
     },
     "execution_count": 27,
     "metadata": {},
     "output_type": "execute_result"
    }
   ],
   "source": [
    "stats.shapiro(shingles['A'])"
   ]
  },
  {
   "cell_type": "code",
   "execution_count": 30,
   "id": "ff7df6e0",
   "metadata": {
    "ExecuteTime": {
     "end_time": "2021-12-05T10:40:07.833084Z",
     "start_time": "2021-12-05T10:40:07.817466Z"
    }
   },
   "outputs": [
    {
     "data": {
      "text/plain": [
       "ShapiroResult(statistic=0.9172994494438171, pvalue=0.02002784051001072)"
      ]
     },
     "execution_count": 30,
     "metadata": {},
     "output_type": "execute_result"
    }
   ],
   "source": [
    "stats.shapiro(shingles['B'].dropna())"
   ]
  },
  {
   "cell_type": "code",
   "execution_count": 35,
   "id": "7efb0ff5",
   "metadata": {
    "ExecuteTime": {
     "end_time": "2021-12-05T10:44:49.454150Z",
     "start_time": "2021-12-05T10:44:49.435956Z"
    }
   },
   "outputs": [
    {
     "data": {
      "text/plain": [
       "LeveneResult(statistic=0.23808965111555147, pvalue=0.6272312061867605)"
      ]
     },
     "execution_count": 35,
     "metadata": {},
     "output_type": "execute_result"
    }
   ],
   "source": [
    "#not a normal distribution\n",
    "stats.levene(shingles['A'], shingles['B'].dropna(), center='median')"
   ]
  },
  {
   "cell_type": "code",
   "execution_count": 36,
   "id": "d71785c4",
   "metadata": {
    "ExecuteTime": {
     "end_time": "2021-12-05T10:46:13.710349Z",
     "start_time": "2021-12-05T10:46:13.691602Z"
    }
   },
   "outputs": [],
   "source": [
    "#samples have equal variance"
   ]
  },
  {
   "cell_type": "markdown",
   "id": "844fd42e",
   "metadata": {
    "ExecuteTime": {
     "end_time": "2021-12-05T10:47:10.980904Z",
     "start_time": "2021-12-05T10:47:10.964775Z"
    }
   },
   "source": [
    "H0 = mean of A = mean of B\n",
    "Ha = mean of A is not equal to B"
   ]
  },
  {
   "cell_type": "code",
   "execution_count": 132,
   "id": "54fadea7",
   "metadata": {
    "ExecuteTime": {
     "end_time": "2021-12-06T08:32:37.346410Z",
     "start_time": "2021-12-06T08:32:37.323408Z"
    }
   },
   "outputs": [
    {
     "data": {
      "text/plain": [
       "1.2896282719661123"
      ]
     },
     "execution_count": 132,
     "metadata": {},
     "output_type": "execute_result"
    }
   ],
   "source": [
    "tstatistic, p_value = ttest_ind(shingles['A'], shingles['B'], equal_var=True, nan_policy='omit')\n",
    "tstatistic"
   ]
  },
  {
   "cell_type": "code",
   "execution_count": 40,
   "id": "3b7f45e2",
   "metadata": {
    "ExecuteTime": {
     "end_time": "2021-12-05T10:53:41.488892Z",
     "start_time": "2021-12-05T10:53:41.478836Z"
    }
   },
   "outputs": [
    {
     "name": "stdout",
     "output_type": "stream",
     "text": [
      "There is conclusive evidence to prove that the population mean for Shingles A and B are equal. Hence we fail to reject the null hypotesis. P-Value: 0.2017496571835306\n"
     ]
    }
   ],
   "source": [
    "print('There is conclusive evidence to prove that the population mean for Shingles A and B are equal. Hence we fail to reject the null hypotesis. P-Value:', p_value)"
   ]
  },
  {
   "cell_type": "code",
   "execution_count": null,
   "id": "acc36805",
   "metadata": {},
   "outputs": [],
   "source": []
  }
 ],
 "metadata": {
  "kernelspec": {
   "display_name": "Python 3",
   "language": "python",
   "name": "python3"
  },
  "language_info": {
   "codemirror_mode": {
    "name": "ipython",
    "version": 3
   },
   "file_extension": ".py",
   "mimetype": "text/x-python",
   "name": "python",
   "nbconvert_exporter": "python",
   "pygments_lexer": "ipython3",
   "version": "3.8.8"
  },
  "latex_envs": {
   "LaTeX_envs_menu_present": true,
   "autoclose": false,
   "autocomplete": true,
   "bibliofile": "biblio.bib",
   "cite_by": "apalike",
   "current_citInitial": 1,
   "eqLabelWithNumbers": true,
   "eqNumInitial": 1,
   "hotkeys": {
    "equation": "Ctrl-E",
    "itemize": "Ctrl-I"
   },
   "labels_anchors": false,
   "latex_user_defs": false,
   "report_style_numbering": false,
   "user_envs_cfg": false
  }
 },
 "nbformat": 4,
 "nbformat_minor": 5
}
